{
 "cells": [
  {
   "cell_type": "code",
   "execution_count": 1,
   "id": "41130e87-043c-4c86-8336-404e024fc732",
   "metadata": {},
   "outputs": [
    {
     "name": "stdout",
     "output_type": "stream",
     "text": [
      "inside m1 method\n",
      "m2 method of local class B\n"
     ]
    }
   ],
   "source": [
    "class A:\n",
    "  def m1(self):\n",
    "    class B: # Local class\n",
    "        def m2(self):\n",
    "           print(\"m2 method of local class B\")\n",
    "    print(\"inside m1 method\")\n",
    "    objb=B()\n",
    "    objb.m2()\n",
    "\n",
    "\n",
    "obja=A()\n",
    "obja.m1()"
   ]
  }
 ],
 "metadata": {
  "kernelspec": {
   "display_name": "Python 3",
   "language": "python",
   "name": "python3"
  },
  "language_info": {
   "codemirror_mode": {
    "name": "ipython",
    "version": 3
   },
   "file_extension": ".py",
   "mimetype": "text/x-python",
   "name": "python",
   "nbconvert_exporter": "python",
   "pygments_lexer": "ipython3",
   "version": "3.13.1"
  }
 },
 "nbformat": 4,
 "nbformat_minor": 5
}
