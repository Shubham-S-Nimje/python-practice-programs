{
 "cells": [
  {
   "cell_type": "code",
   "execution_count": 1,
   "id": "41130e87-043c-4c86-8336-404e024fc732",
   "metadata": {},
   "outputs": [
    {
     "name": "stdout",
     "output_type": "stream",
     "text": [
      "Name naresh\n",
      "Street amreerpet\n",
      "City hyd\n"
     ]
    }
   ],
   "source": [
    "class Person:\n",
    "    class __Address:\n",
    "        def __init__(self):\n",
    "            self.__street=None\n",
    "            self.__city=None\n",
    "        def read_address(self):\n",
    "            self.__street=input(\"Street :\")\n",
    "            self.__city=input(\"City :\")\n",
    "        def print_address(self):\n",
    "            print(f'Street {self.__street}')\n",
    "            print(f'City {self.__city}')\n",
    "    def __init__(self):\n",
    "        self.__name=None\n",
    "        self.__add=Person.__Address()\n",
    "    def read(self):\n",
    "        self.__name=input(\"Name :\")\n",
    "        self.__add.read_address()\n",
    "    def print_info(self):\n",
    "        print(f'Name {self.__name}')\n",
    "        self.__add.print_address()\n",
    "\n",
    "    \n",
    "p1=Person()\n",
    "p1.read()\n",
    "p1.print_info()"
   ]
  }
 ],
 "metadata": {
  "kernelspec": {
   "display_name": "Python 3",
   "language": "python",
   "name": "python3"
  },
  "language_info": {
   "codemirror_mode": {
    "name": "ipython",
    "version": 3
   },
   "file_extension": ".py",
   "mimetype": "text/x-python",
   "name": "python",
   "nbconvert_exporter": "python",
   "pygments_lexer": "ipython3",
   "version": "3.13.1"
  }
 },
 "nbformat": 4,
 "nbformat_minor": 5
}
