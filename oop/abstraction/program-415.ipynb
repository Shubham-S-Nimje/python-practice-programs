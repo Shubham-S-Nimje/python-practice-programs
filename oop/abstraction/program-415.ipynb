{
 "cells": [
  {
   "cell_type": "code",
   "execution_count": 1,
   "id": "41130e87-043c-4c86-8336-404e024fc732",
   "metadata": {},
   "outputs": [
    {
     "name": "stdout",
     "output_type": "stream",
     "text": [
      "connect to bsnl network\n",
      "connect to airtel network\n"
     ]
    }
   ],
   "source": [
    "import abc\n",
    "class Sim(abc.ABC):\n",
    "    @abc.abstractmethod\n",
    "    def connect(self):\n",
    "        pass\n",
    "\n",
    "class BsnlSim(Sim):\n",
    "    def connect(self):\n",
    "        print(\"connect to bsnl network\")\n",
    "class AirtelSim(Sim):\n",
    "    def connect(self):\n",
    "        print(\"connect to airtel network\")\n",
    "\n",
    "class Mobile:\n",
    "    def insert(self,s):\n",
    "        s.connect()\n",
    "\n",
    "mobile1=Mobile()\n",
    "s1=BsnlSim()\n",
    "s2=AirtelSim()\n",
    "mobile1.insert(s1)\n",
    "mobile1.insert(s2)"
   ]
  }
 ],
 "metadata": {
  "kernelspec": {
   "display_name": "Python 3",
   "language": "python",
   "name": "python3"
  },
  "language_info": {
   "codemirror_mode": {
    "name": "ipython",
    "version": 3
   },
   "file_extension": ".py",
   "mimetype": "text/x-python",
   "name": "python",
   "nbconvert_exporter": "python",
   "pygments_lexer": "ipython3",
   "version": "3.13.1"
  }
 },
 "nbformat": 4,
 "nbformat_minor": 5
}
