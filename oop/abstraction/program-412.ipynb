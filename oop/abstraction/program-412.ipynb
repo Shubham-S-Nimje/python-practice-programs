{
 "cells": [
  {
   "cell_type": "code",
   "execution_count": 1,
   "id": "41130e87-043c-4c86-8336-404e024fc732",
   "metadata": {},
   "outputs": [
    {
     "name": "stdout",
     "output_type": "stream",
     "text": [
      "Dog Eat XYZ....\n",
      "Cat Eat PQR....\n",
      "Cow Eat MNO....\n"
     ]
    }
   ],
   "source": [
    "import abc\n",
    "\n",
    "class Animal(abc.ABC):\n",
    "    @abc.abstractmethod\n",
    "    def eat(self):\n",
    "        pass\n",
    "\n",
    "    \n",
    "class Dog(Animal):\n",
    "    def eat(self):\n",
    "        print(\"Dog Eat XYZ....\")\n",
    "\n",
    "class Cat(Animal):\n",
    "    def eat(self):\n",
    "        print(\"Cat Eat PQR....\")\n",
    "        \n",
    "class Cow(Animal):\n",
    "    def eat(self):\n",
    "        print(\"Cow Eat MNO....\")\n",
    "\n",
    "#a1=Animal() Error\n",
    "dog1=Dog()\n",
    "cat1=Cat()\n",
    "cow1=Cow()\n",
    "\n",
    "dog1.eat()\n",
    "cat1.eat()\n",
    "cow1.eat()"
   ]
  }
 ],
 "metadata": {
  "kernelspec": {
   "display_name": "Python 3",
   "language": "python",
   "name": "python3"
  },
  "language_info": {
   "codemirror_mode": {
    "name": "ipython",
    "version": 3
   },
   "file_extension": ".py",
   "mimetype": "text/x-python",
   "name": "python",
   "nbconvert_exporter": "python",
   "pygments_lexer": "ipython3",
   "version": "3.13.1"
  }
 },
 "nbformat": 4,
 "nbformat_minor": 5
}
