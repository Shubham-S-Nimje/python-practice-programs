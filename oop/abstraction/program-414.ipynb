{
 "cells": [
  {
   "cell_type": "code",
   "execution_count": 1,
   "id": "41130e87-043c-4c86-8336-404e024fc732",
   "metadata": {},
   "outputs": [
    {
     "name": "stdout",
     "output_type": "stream",
     "text": [
      "withdraw of HDFC...\n",
      "withdraw of SBI...\n"
     ]
    }
   ],
   "source": [
    "import abc\n",
    "\n",
    "class Debitcard(abc.ABC):\n",
    "    @abc.abstractmethod\n",
    "    def withdraw(self):\n",
    "        pass\n",
    "\n",
    "class HDFCDebitcard(Debitcard):\n",
    "    def withdraw(self):\n",
    "        print(\"withdraw of HDFC...\")\n",
    "\n",
    "class SBIDebitcard(Debitcard):\n",
    "    def withdraw(self):\n",
    "        print(\"withdraw of SBI...\")\n",
    "\n",
    "class ICICIATM:\n",
    "    def insert(self,d):\n",
    "        d.withdraw()\n",
    "\n",
    "\n",
    "atm1=ICICIATM()\n",
    "card1=HDFCDebitcard()\n",
    "card2=SBIDebitcard()\n",
    "atm1.insert(card1)\n",
    "atm1.insert(card2)"
   ]
  }
 ],
 "metadata": {
  "kernelspec": {
   "display_name": "Python 3",
   "language": "python",
   "name": "python3"
  },
  "language_info": {
   "codemirror_mode": {
    "name": "ipython",
    "version": 3
   },
   "file_extension": ".py",
   "mimetype": "text/x-python",
   "name": "python",
   "nbconvert_exporter": "python",
   "pygments_lexer": "ipython3",
   "version": "3.13.1"
  }
 },
 "nbformat": 4,
 "nbformat_minor": 5
}
