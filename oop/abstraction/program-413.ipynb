{
 "cells": [
  {
   "cell_type": "code",
   "execution_count": 1,
   "id": "41130e87-043c-4c86-8336-404e024fc732",
   "metadata": {},
   "outputs": [
    {
     "name": "stdout",
     "output_type": "stream",
     "text": [
      "Area of triangle1 is 0.78\n",
      "Area of rectangle is 3.00\n"
     ]
    }
   ],
   "source": [
    "import abc\n",
    "\n",
    "class Shape(abc.ABC):\n",
    "    def __init__(self):\n",
    "        self._dim1=None\n",
    "        self._dim2=None\n",
    "    def read_dim(self):\n",
    "        self._dim1=float(input(\"Dim1 :\"))\n",
    "        self._dim2=float(input(\"Dim2 :\"))\n",
    "    @abc.abstractmethod\n",
    "    def find_area(self):\n",
    "        pass\n",
    "\n",
    "class Triangle(Shape):\n",
    "    def find_area(self):\n",
    "        return 0.5*self._dim1*self._dim2\n",
    "class Rectangle(Shape):\n",
    "    def find_area(self):\n",
    "        return self._dim1*self._dim2\n",
    "    \n",
    "       \n",
    "t1=Triangle()\n",
    "t1.read_dim()\n",
    "area1=t1.find_area()\n",
    "print(f'Area of triangle1 is {area1:.2f}')\n",
    "r1=Rectangle()\n",
    "r1.read_dim()\n",
    "area2=r1.find_area()\n",
    "print(f'Area of rectangle is {area2:.2f}')"
   ]
  }
 ],
 "metadata": {
  "kernelspec": {
   "display_name": "Python 3",
   "language": "python",
   "name": "python3"
  },
  "language_info": {
   "codemirror_mode": {
    "name": "ipython",
    "version": 3
   },
   "file_extension": ".py",
   "mimetype": "text/x-python",
   "name": "python",
   "nbconvert_exporter": "python",
   "pygments_lexer": "ipython3",
   "version": "3.13.1"
  }
 },
 "nbformat": 4,
 "nbformat_minor": 5
}
