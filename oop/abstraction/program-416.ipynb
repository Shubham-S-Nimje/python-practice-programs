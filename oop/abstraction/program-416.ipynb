{
 "cells": [
  {
   "cell_type": "code",
   "execution_count": 1,
   "id": "41130e87-043c-4c86-8336-404e024fc732",
   "metadata": {},
   "outputs": [
    {
     "name": "stdout",
     "output_type": "stream",
     "text": [
      "m1 of B class\n"
     ]
    }
   ],
   "source": [
    "class A:\n",
    "    class B:\n",
    "        def m1(self):\n",
    "            print(\"m1 of B class\")\n",
    "\n",
    "objb=A.B()\n",
    "objb.m1()"
   ]
  },
  {
   "cell_type": "code",
   "execution_count": 2,
   "id": "368bf68a",
   "metadata": {},
   "outputs": [
    {
     "ename": "AttributeError",
     "evalue": "type object 'A' has no attribute '__B'",
     "output_type": "error",
     "traceback": [
      "\u001b[31m---------------------------------------------------------------------------\u001b[39m",
      "\u001b[31mAttributeError\u001b[39m                            Traceback (most recent call last)",
      "\u001b[36mCell\u001b[39m\u001b[36m \u001b[39m\u001b[32mIn[2]\u001b[39m\u001b[32m, line 5\u001b[39m\n\u001b[32m      3\u001b[39m         \u001b[38;5;28;01mdef\u001b[39;00m\u001b[38;5;250m \u001b[39m\u001b[34mm1\u001b[39m(\u001b[38;5;28mself\u001b[39m):\n\u001b[32m      4\u001b[39m             \u001b[38;5;28mprint\u001b[39m(\u001b[33m\"\u001b[39m\u001b[33mm1 of B class\u001b[39m\u001b[33m\"\u001b[39m)\n\u001b[32m----> \u001b[39m\u001b[32m5\u001b[39m objb=\u001b[43mA\u001b[49m\u001b[43m.\u001b[49m\u001b[43m__B\u001b[49m()\n",
      "\u001b[31mAttributeError\u001b[39m: type object 'A' has no attribute '__B'"
     ]
    }
   ],
   "source": [
    "class A:\n",
    "    class __B:\n",
    "        def m1(self):\n",
    "            print(\"m1 of B class\")\n",
    "objb=A.__B()"
   ]
  },
  {
   "cell_type": "markdown",
   "id": "f15fdea6",
   "metadata": {},
   "source": [
    "Private class object is created within outer class but not outside the outer class\n",
    "Public class object is created within outer class and outside the class"
   ]
  }
 ],
 "metadata": {
  "kernelspec": {
   "display_name": "Python 3",
   "language": "python",
   "name": "python3"
  },
  "language_info": {
   "codemirror_mode": {
    "name": "ipython",
    "version": 3
   },
   "file_extension": ".py",
   "mimetype": "text/x-python",
   "name": "python",
   "nbconvert_exporter": "python",
   "pygments_lexer": "ipython3",
   "version": "3.13.1"
  }
 },
 "nbformat": 4,
 "nbformat_minor": 5
}
