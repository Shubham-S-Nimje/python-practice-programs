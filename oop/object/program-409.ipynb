{
 "cells": [
  {
   "cell_type": "code",
   "execution_count": 1,
   "id": "41130e87-043c-4c86-8336-404e024fc732",
   "metadata": {},
   "outputs": [
    {
     "name": "stdout",
     "output_type": "stream",
     "text": [
      "1.2,1.5\n",
      "1.3,1.2\n",
      "2.5,2.7\n"
     ]
    }
   ],
   "source": [
    "class Complex:\n",
    "    def __init__(self,r,i):\n",
    "        self.__real=r\n",
    "        self.__img=i\n",
    "    \n",
    "    def __str__(self):\n",
    "        return f'{self.__real},{self.__img}'\n",
    "    def __add__(self,other):\n",
    "        comp3=Complex(0,0)\n",
    "        comp3.__real=self.__real+other.__real\n",
    "        comp3.__img=self.__img+other.__img\n",
    "        return comp3\n",
    "\n",
    "\n",
    "\n",
    "comp1=Complex(1.2,1.5)\n",
    "comp2=Complex(1.3,1.2)\n",
    "print(comp1,comp2,sep=\"\\n\")\n",
    "comp3=comp1+comp2\n",
    "print(comp3)"
   ]
  }
 ],
 "metadata": {
  "kernelspec": {
   "display_name": "Python 3",
   "language": "python",
   "name": "python3"
  },
  "language_info": {
   "codemirror_mode": {
    "name": "ipython",
    "version": 3
   },
   "file_extension": ".py",
   "mimetype": "text/x-python",
   "name": "python",
   "nbconvert_exporter": "python",
   "pygments_lexer": "ipython3",
   "version": "3.13.1"
  }
 },
 "nbformat": 4,
 "nbformat_minor": 5
}
