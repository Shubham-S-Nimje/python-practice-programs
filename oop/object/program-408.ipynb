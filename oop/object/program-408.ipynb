{
 "cells": [
  {
   "cell_type": "code",
   "execution_count": null,
   "id": "41130e87-043c-4c86-8336-404e024fc732",
   "metadata": {},
   "outputs": [
    {
     "name": "stdout",
     "output_type": "stream",
     "text": [
      "salaries are equal\n",
      "salaries are not equal\n"
     ]
    }
   ],
   "source": [
    "class Employee:\n",
    "    def __init__(self,e,en,s):\n",
    "        self.__empno=e\n",
    "        self.__ename=en\n",
    "        self.__salary=s\n",
    "    def __eq__(self,other):\n",
    "        if self.__salary==other.__salary:\n",
    "            return True\n",
    "        else:\n",
    "            return False\n",
    "            \n",
    "emp1=Employee(101,\"naresh\",5000)\n",
    "\n",
    "emp2=Employee(102,\"suresh\",5000)\n",
    "if emp1==emp2:\n",
    "    print(\"salaries are equal\")\n",
    "else:\n",
    "    print(\"salaries not equal\")\n",
    "\n",
    "emp3=Employee(103,\"kishore\",7000)\n",
    "if emp1==emp3:\n",
    "    print(\"salaries are equal\")\n",
    "else:\n",
    "    print(\"salaries are not equal\")\n"
   ]
  }
 ],
 "metadata": {
  "kernelspec": {
   "display_name": "Python 3",
   "language": "python",
   "name": "python3"
  },
  "language_info": {
   "codemirror_mode": {
    "name": "ipython",
    "version": 3
   },
   "file_extension": ".py",
   "mimetype": "text/x-python",
   "name": "python",
   "nbconvert_exporter": "python",
   "pygments_lexer": "ipython3",
   "version": "3.13.1"
  }
 },
 "nbformat": 4,
 "nbformat_minor": 5
}
