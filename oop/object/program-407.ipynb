{
 "cells": [
  {
   "cell_type": "code",
   "execution_count": null,
   "id": "41130e87-043c-4c86-8336-404e024fc732",
   "metadata": {},
   "outputs": [
    {
     "name": "stdout",
     "output_type": "stream",
     "text": [
      "EmployeeNo 101\n",
      "EmployeeName Naresh\n",
      "EmployeeSalary 50000.0\n"
     ]
    }
   ],
   "source": [
    "class Product:\n",
    "    def __init__(self,p,pn):\n",
    "        self.__pid=p\n",
    "        self.__pname=pn\n",
    "    def __str__(self): # Overriding method\n",
    "        return f'{self.__pid},{self.__pname}'\n",
    "\n",
    "\n",
    "\n",
    "c1=complex(1.5,2.5)\n",
    "print(c1)\n",
    "p1=Product(101,\"mouse\")\n",
    "print(p1)\n",
    "s1=str(c1) # c1.__str__\n",
    "p2=str(p1) # p1.__str__\n",
    "print(type(s1),type(p2))"
   ]
  }
 ],
 "metadata": {
  "kernelspec": {
   "display_name": "Python 3",
   "language": "python",
   "name": "python3"
  },
  "language_info": {
   "codemirror_mode": {
    "name": "ipython",
    "version": 3
   },
   "file_extension": ".py",
   "mimetype": "text/x-python",
   "name": "python",
   "nbconvert_exporter": "python",
   "pygments_lexer": "ipython3",
   "version": "3.13.1"
  }
 },
 "nbformat": 4,
 "nbformat_minor": 5
}
