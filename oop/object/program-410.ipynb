{
 "cells": [
  {
   "cell_type": "code",
   "execution_count": 1,
   "id": "41130e87-043c-4c86-8336-404e024fc732",
   "metadata": {},
   "outputs": [
    {
     "name": "stdout",
     "output_type": "stream",
     "text": [
      "True\n",
      "False\n",
      "True\n"
     ]
    }
   ],
   "source": [
    "class Player:\n",
    "    def __init__(self,pn,s):\n",
    "        self.__pname=pn\n",
    "        self.__score=s\n",
    "    def __str__(self):\n",
    "        return f'{self.__pname},{self.__score}'\n",
    "    def __gt__(self,other):\n",
    "        return self.__score>other.__score\n",
    "    def __ge__(self,other):\n",
    "        return self.__score>=other.__score\n",
    "\n",
    "\n",
    "p1=Player(\"abc\",50)\n",
    "p2=Player(\"xyz\",40)\n",
    "print(p1>p2)\n",
    "print(p2>p1)\n",
    "p3=Player(\"mno\",50)\n",
    "print(p1>=p3)"
   ]
  }
 ],
 "metadata": {
  "kernelspec": {
   "display_name": "Python 3",
   "language": "python",
   "name": "python3"
  },
  "language_info": {
   "codemirror_mode": {
    "name": "ipython",
    "version": 3
   },
   "file_extension": ".py",
   "mimetype": "text/x-python",
   "name": "python",
   "nbconvert_exporter": "python",
   "pygments_lexer": "ipython3",
   "version": "3.13.1"
  }
 },
 "nbformat": 4,
 "nbformat_minor": 5
}
