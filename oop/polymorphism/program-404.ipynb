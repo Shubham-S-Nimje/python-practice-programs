{
 "cells": [
  {
   "cell_type": "code",
   "execution_count": 1,
   "id": "41130e87-043c-4c86-8336-404e024fc732",
   "metadata": {},
   "outputs": [
    {
     "name": "stdout",
     "output_type": "stream",
     "text": [
      "Base Class Method/Overriden Method\n",
      "Derived Class method/Overriding Method\n",
      "Derived Class\n"
     ]
    }
   ],
   "source": [
    "class A:\n",
    "    def m1(self): # Overriden method\n",
    "        print(\"Base Class Method/Overriden Method\")\n",
    "\n",
    "class B(A):\n",
    "    def m1(self): # Overriding method\n",
    "        super().m1()\n",
    "        print(\"Derived Class method/Overriding Method\")\n",
    "    def m2(self):\n",
    "        print(\"Derived Class\")\n",
    "\n",
    "objb=B()\n",
    "objb.m1()\n",
    "objb.m2()"
   ]
  }
 ],
 "metadata": {
  "kernelspec": {
   "display_name": "Python 3",
   "language": "python",
   "name": "python3"
  },
  "language_info": {
   "codemirror_mode": {
    "name": "ipython",
    "version": 3
   },
   "file_extension": ".py",
   "mimetype": "text/x-python",
   "name": "python",
   "nbconvert_exporter": "python",
   "pygments_lexer": "ipython3",
   "version": "3.13.1"
  }
 },
 "nbformat": 4,
 "nbformat_minor": 5
}
