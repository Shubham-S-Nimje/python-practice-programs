{
 "cells": [
  {
   "cell_type": "code",
   "execution_count": 3,
   "id": "41130e87-043c-4c86-8336-404e024fc732",
   "metadata": {},
   "outputs": [
    {
     "name": "stdout",
     "output_type": "stream",
     "text": [
      "EmployeeNo 101\n",
      "EmployeeName Naresh\n",
      "EmployeeSalary 50000.0\n"
     ]
    }
   ],
   "source": [
    "class Employee:\n",
    "    def __init__(self):\n",
    "        self.__empno=None\n",
    "        self.__ename=None\n",
    "    def read(self):\n",
    "        self.__empno=int(input(\"EmployeeNo :\"))\n",
    "        self.__ename=input(\"EmployeeName :\")\n",
    "    def print_emp(self):\n",
    "        print(f'EmployeeNo {self.__empno}')\n",
    "        print(f'EmployeeName {self.__ename}')\n",
    "\n",
    "class SalariedEmployee(Employee):\n",
    "    def __init__(self):\n",
    "        super().__init__()\n",
    "        self.__salary=None\n",
    "    def read(self): # Overriding method\n",
    "        super().read()\n",
    "        self.__salary=float(input(\"Salary :\"))\n",
    "    def print_emp(self): # Overriding method\n",
    "        super().print_emp()\n",
    "        print(f'EmployeeSalary {self.__salary}')\n",
    "    \n",
    "emp1=SalariedEmployee()\n",
    "emp1.read()\n",
    "emp1.print_emp()"
   ]
  }
 ],
 "metadata": {
  "kernelspec": {
   "display_name": "Python 3",
   "language": "python",
   "name": "python3"
  },
  "language_info": {
   "codemirror_mode": {
    "name": "ipython",
    "version": 3
   },
   "file_extension": ".py",
   "mimetype": "text/x-python",
   "name": "python",
   "nbconvert_exporter": "python",
   "pygments_lexer": "ipython3",
   "version": "3.13.1"
  }
 },
 "nbformat": 4,
 "nbformat_minor": 5
}
