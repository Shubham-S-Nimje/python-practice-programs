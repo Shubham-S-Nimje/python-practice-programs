{
 "cells": [
  {
   "cell_type": "code",
   "execution_count": 1,
   "id": "41130e87-043c-4c86-8336-404e024fc732",
   "metadata": {},
   "outputs": [
    {
     "name": "stdout",
     "output_type": "stream",
     "text": [
      "False\n",
      "True\n",
      "24\n"
     ]
    }
   ],
   "source": [
    "class Math:\n",
    "    @staticmethod\n",
    "    def isprime(num):\n",
    "        c=0\n",
    "        for i in range(1,num+1):\n",
    "            if num%i==0:\n",
    "                c=c+1\n",
    "        return c==2\n",
    "    \n",
    "    @staticmethod\n",
    "    def factorial(num):\n",
    "        fact=1\n",
    "        for i in range(1,num+1):\n",
    "            fact=fact*i\n",
    "        return fact\n",
    "\n",
    "res1=Math.isprime(9)\n",
    "print(res1)\n",
    "res2=Math.isprime(3)\n",
    "print(res2)\n",
    "res3=Math.factorial(4)\n",
    "print(res3)"
   ]
  },
  {
   "cell_type": "code",
   "execution_count": null,
   "id": "60ec8c39-1459-4208-b4ff-58f4d434a222",
   "metadata": {},
   "outputs": [],
   "source": []
  }
 ],
 "metadata": {
  "kernelspec": {
   "display_name": "Python 3",
   "language": "python",
   "name": "python3"
  },
  "language_info": {
   "codemirror_mode": {
    "name": "ipython",
    "version": 3
   },
   "file_extension": ".py",
   "mimetype": "text/x-python",
   "name": "python",
   "nbconvert_exporter": "python",
   "pygments_lexer": "ipython3",
   "version": "3.13.1"
  }
 },
 "nbformat": 4,
 "nbformat_minor": 5
}
