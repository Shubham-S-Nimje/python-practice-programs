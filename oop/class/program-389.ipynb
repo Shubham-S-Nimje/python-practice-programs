{
 "cells": [
  {
   "cell_type": "code",
   "execution_count": 2,
   "id": "41130e87-043c-4c86-8336-404e024fc732",
   "metadata": {},
   "outputs": [
    {
     "name": "stdout",
     "output_type": "stream",
     "text": [
      "AccountNo 101\n",
      "        CustomerName naresh\n",
      "        Balance 35000\n",
      "AccountNo 102\n",
      "        CustomerName suresh\n",
      "        Balance 25000\n",
      "AccountNo 101\n",
      "        CustomerName naresh\n",
      "        Balance 45000\n",
      "AccountNo 102\n",
      "        CustomerName suresh\n",
      "        Balance 5000\n"
     ]
    }
   ],
   "source": [
    "class Account:\n",
    "    __minbal=5000\n",
    "    def __init__(self,a,n,b):\n",
    "        self.__accno=a\n",
    "        self.__cname=n\n",
    "        self.__balance=b\n",
    "    def deposit(self,t):\n",
    "        self.__balance+=t\n",
    "    def withdraw(self,t):\n",
    "        if (self.__balance-t)<Account.__minbal:\n",
    "            print(\"Insuff Balance\")\n",
    "        else:\n",
    "            self.__balance-=t\n",
    "    \n",
    "    def print_account(self):\n",
    "        print(f'''AccountNo {self.__accno}\n",
    "        CustomerName {self.__cname}\n",
    "        Balance {self.__balance}''')\n",
    "\n",
    "acc1=Account(101,\"naresh\",35000)\n",
    "acc2=Account(102,\"suresh\",25000)\n",
    "acc1.print_account()\n",
    "acc2.print_account()\n",
    "acc1.deposit(10000)\n",
    "acc1.print_account()\n",
    "acc2.withdraw(20000)\n",
    "acc2.print_account()"
   ]
  },
  {
   "cell_type": "code",
   "execution_count": null,
   "id": "60ec8c39-1459-4208-b4ff-58f4d434a222",
   "metadata": {},
   "outputs": [],
   "source": []
  }
 ],
 "metadata": {
  "kernelspec": {
   "display_name": ".venv",
   "language": "python",
   "name": "python3"
  },
  "language_info": {
   "codemirror_mode": {
    "name": "ipython",
    "version": 3
   },
   "file_extension": ".py",
   "mimetype": "text/x-python",
   "name": "python",
   "nbconvert_exporter": "python",
   "pygments_lexer": "ipython3",
   "version": "3.13.1"
  }
 },
 "nbformat": 4,
 "nbformat_minor": 5
}
