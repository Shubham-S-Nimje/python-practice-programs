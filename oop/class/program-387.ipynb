{
 "cells": [
  {
   "cell_type": "code",
   "execution_count": 1,
   "id": "41130e87-043c-4c86-8336-404e024fc732",
   "metadata": {},
   "outputs": [
    {
     "name": "stdout",
     "output_type": "stream",
     "text": [
      "NIT\n",
      "None None NIT\n",
      "None None NIT\n"
     ]
    }
   ],
   "source": [
    "class Student:\n",
    "    college_name=\"NIT\"\n",
    "    def __init__(self):\n",
    "        self.rollno=None\n",
    "        self.name=None\n",
    "\n",
    "print(Student.college_name)\n",
    "stud1=Student()\n",
    "print(stud1.rollno,stud1.name,stud1.college_name)\n",
    "stud2=Student()\n",
    "print(stud2.rollno,stud2.name,stud2.college_name)"
   ]
  },
  {
   "cell_type": "code",
   "execution_count": null,
   "id": "60ec8c39-1459-4208-b4ff-58f4d434a222",
   "metadata": {},
   "outputs": [],
   "source": []
  }
 ],
 "metadata": {
  "kernelspec": {
   "display_name": "Python 3 (ipykernel)",
   "language": "python",
   "name": "python3"
  },
  "language_info": {
   "codemirror_mode": {
    "name": "ipython",
    "version": 3
   },
   "file_extension": ".py",
   "mimetype": "text/x-python",
   "name": "python",
   "nbconvert_exporter": "python",
   "pygments_lexer": "ipython3",
   "version": "3.13.1"
  }
 },
 "nbformat": 4,
 "nbformat_minor": 5
}
