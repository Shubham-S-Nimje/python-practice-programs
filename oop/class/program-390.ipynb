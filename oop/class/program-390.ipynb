{
 "cells": [
  {
   "cell_type": "code",
   "execution_count": 1,
   "id": "41130e87-043c-4c86-8336-404e024fc732",
   "metadata": {},
   "outputs": [
    {
     "name": "stdout",
     "output_type": "stream",
     "text": [
      "class method\n",
      "instance method\n"
     ]
    }
   ],
   "source": [
    "class A:\n",
    "    def m1(self):\n",
    "        print(\"instance method\")\n",
    "    @classmethod\n",
    "    def m2(cls):\n",
    "        print(\"class method\")\n",
    "\n",
    "A.m2()\n",
    "obj1=A()\n",
    "obj1.m1()"
   ]
  },
  {
   "cell_type": "code",
   "execution_count": null,
   "id": "60ec8c39-1459-4208-b4ff-58f4d434a222",
   "metadata": {},
   "outputs": [],
   "source": []
  }
 ],
 "metadata": {
  "kernelspec": {
   "display_name": "Python 3",
   "language": "python",
   "name": "python3"
  },
  "language_info": {
   "codemirror_mode": {
    "name": "ipython",
    "version": 3
   },
   "file_extension": ".py",
   "mimetype": "text/x-python",
   "name": "python",
   "nbconvert_exporter": "python",
   "pygments_lexer": "ipython3",
   "version": "3.13.1"
  }
 },
 "nbformat": 4,
 "nbformat_minor": 5
}
