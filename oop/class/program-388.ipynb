{
 "cells": [
  {
   "cell_type": "code",
   "execution_count": 1,
   "id": "41130e87-043c-4c86-8336-404e024fc732",
   "metadata": {},
   "outputs": [
    {
     "name": "stdout",
     "output_type": "stream",
     "text": [
      "100\n",
      "100 200\n",
      "100 300\n",
      "999 200\n",
      "999 300\n"
     ]
    }
   ],
   "source": [
    "class A:\n",
    "    x=100 # class level variable\n",
    "    def __init__(self,n):\n",
    "        self.y=n # object level variable\n",
    "\n",
    "print(A.x)\n",
    "obja1=A(200)\n",
    "obja2=A(300)\n",
    "print(obja1.x,obja1.y)\n",
    "print(obja2.x,obja2.y)\n",
    "A.x=999\n",
    "print(obja1.x,obja1.y)\n",
    "print(obja2.x,obja2.y)"
   ]
  },
  {
   "cell_type": "code",
   "execution_count": null,
   "id": "60ec8c39-1459-4208-b4ff-58f4d434a222",
   "metadata": {},
   "outputs": [],
   "source": []
  }
 ],
 "metadata": {
  "kernelspec": {
   "display_name": ".venv",
   "language": "python",
   "name": "python3"
  },
  "language_info": {
   "codemirror_mode": {
    "name": "ipython",
    "version": 3
   },
   "file_extension": ".py",
   "mimetype": "text/x-python",
   "name": "python",
   "nbconvert_exporter": "python",
   "pygments_lexer": "ipython3",
   "version": "3.13.1"
  }
 },
 "nbformat": 4,
 "nbformat_minor": 5
}
