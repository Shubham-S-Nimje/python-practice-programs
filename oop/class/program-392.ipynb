{
 "cells": [
  {
   "cell_type": "code",
   "execution_count": null,
   "id": "41130e87-043c-4c86-8336-404e024fc732",
   "metadata": {},
   "outputs": [
    {
     "name": "stdout",
     "output_type": "stream",
     "text": [
      "0\n",
      "101,Mouse\n",
      "1\n",
      "102,Keyboard\n",
      "2\n"
     ]
    }
   ],
   "source": [
    "class Product:\n",
    "    __count=0\n",
    "    def __init__(self,p,pn):\n",
    "        self.__pid=p\n",
    "        self.__pname=pn\n",
    "        Product.__count+=1\n",
    "    def print_product(self):\n",
    "        print(f'{self.__pid},{self.__pname}')\n",
    "        \n",
    "    @classmethod\n",
    "    def get_product_count(cls):\n",
    "        return cls.__count\n",
    "\n",
    "k=Product.get_product_count()\n",
    "print(k)\n",
    "p1=Product(101,\"Mouse\")\n",
    "p1.print_product()\n",
    "k=Product.get_product_count()\n",
    "print(k)\n",
    "p2=Product(102,\"Keyboard\")\n",
    "p2.print_product()\n",
    "k=Product.get_product_count()\n",
    "print(k)"
   ]
  },
  {
   "cell_type": "code",
   "execution_count": null,
   "id": "60ec8c39-1459-4208-b4ff-58f4d434a222",
   "metadata": {},
   "outputs": [],
   "source": []
  }
 ],
 "metadata": {
  "kernelspec": {
   "display_name": "Python 3",
   "language": "python",
   "name": "python3"
  },
  "language_info": {
   "codemirror_mode": {
    "name": "ipython",
    "version": 3
   },
   "file_extension": ".py",
   "mimetype": "text/x-python",
   "name": "python",
   "nbconvert_exporter": "python",
   "pygments_lexer": "ipython3",
   "version": "3.13.1"
  }
 },
 "nbformat": 4,
 "nbformat_minor": 5
}
