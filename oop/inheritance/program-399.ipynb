{
 "cells": [
  {
   "cell_type": "code",
   "execution_count": 11,
   "id": "41130e87-043c-4c86-8336-404e024fc732",
   "metadata": {},
   "outputs": [
    {
     "name": "stdout",
     "output_type": "stream",
     "text": [
      "Name naresh\n",
      "Job manager\n",
      "Salary 50000\n"
     ]
    }
   ],
   "source": [
    "class Person:\n",
    "    def __init__(self):\n",
    "        self.__name=None\n",
    "    def setName(self,n):\n",
    "        self.__name=n\n",
    "    def getName(self):\n",
    "        return self.__name\n",
    "\n",
    "class Employee(Person):\n",
    "    def __init__(self):\n",
    "        super().__init__()\n",
    "        self.__job=None\n",
    "    def setJob(self,j):\n",
    "        self.__job=j\n",
    "    def getJob(self):\n",
    "        return self.__job\n",
    "\n",
    "class SalariedEmployee(Employee):\n",
    "    def __init__(self):\n",
    "        super().__init__()\n",
    "        self.__salary=None\n",
    "    def setSalary(self,s):\n",
    "        self.__salary=s\n",
    "    def getSalary(self):\n",
    "        return self.__salary\n",
    "\n",
    "emp1=SalariedEmployee()\n",
    "emp1.setName(\"naresh\")\n",
    "emp1.setJob(\"manager\")\n",
    "emp1.setSalary(50000)\n",
    "\n",
    "name=emp1.getName()\n",
    "job=emp1.getJob()\n",
    "sal=emp1.getSalary()\n",
    "print(f'Name {name}')\n",
    "print(f'Job {job}')\n",
    "print(f'Salary {sal}')"
   ]
  }
 ],
 "metadata": {
  "kernelspec": {
   "display_name": "Python 3",
   "language": "python",
   "name": "python3"
  },
  "language_info": {
   "codemirror_mode": {
    "name": "ipython",
    "version": 3
   },
   "file_extension": ".py",
   "mimetype": "text/x-python",
   "name": "python",
   "nbconvert_exporter": "python",
   "pygments_lexer": "ipython3",
   "version": "3.13.1"
  }
 },
 "nbformat": 4,
 "nbformat_minor": 5
}
