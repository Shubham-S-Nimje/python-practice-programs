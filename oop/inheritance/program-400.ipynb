{
 "cells": [
  {
   "cell_type": "code",
   "execution_count": 1,
   "id": "41130e87-043c-4c86-8336-404e024fc732",
   "metadata": {},
   "outputs": [
    {
     "name": "stdout",
     "output_type": "stream",
     "text": [
      "m1 of A\n",
      "m2 of B\n",
      "m3 of C\n"
     ]
    }
   ],
   "source": [
    "class A:\n",
    "    def m1(self):\n",
    "        print(\"m1 of A\")\n",
    "\n",
    "class B:\n",
    "    def m2(self):\n",
    "        print(\"m2 of B\")\n",
    "\n",
    "class C(A,B):\n",
    "    def m3(self):\n",
    "        print(\"m3 of C\")\n",
    "\n",
    "objc=C()\n",
    "objc.m1()\n",
    "objc.m2()\n",
    "objc.m3()\n"
   ]
  }
 ],
 "metadata": {
  "kernelspec": {
   "display_name": "Python 3",
   "language": "python",
   "name": "python3"
  },
  "language_info": {
   "codemirror_mode": {
    "name": "ipython",
    "version": 3
   },
   "file_extension": ".py",
   "mimetype": "text/x-python",
   "name": "python",
   "nbconvert_exporter": "python",
   "pygments_lexer": "ipython3",
   "version": "3.13.1"
  }
 },
 "nbformat": 4,
 "nbformat_minor": 5
}
