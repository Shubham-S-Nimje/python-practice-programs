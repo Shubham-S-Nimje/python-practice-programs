{
 "cells": [
  {
   "cell_type": "code",
   "execution_count": 1,
   "id": "41130e87-043c-4c86-8336-404e024fc732",
   "metadata": {},
   "outputs": [
    {
     "name": "stdout",
     "output_type": "stream",
     "text": [
      "100 200 300 400\n"
     ]
    }
   ],
   "source": [
    "class A:\n",
    "    def __init__(self):\n",
    "        self.x=100\n",
    "\n",
    "class B(A):\n",
    "    def __init__(self):\n",
    "        super().__init__()\n",
    "        self.y=200\n",
    "\n",
    "class C(A):\n",
    "    def __init__(self):\n",
    "        super().__init__()\n",
    "        self.z=300\n",
    "\n",
    "class D(B,C):\n",
    "    def __init__(self):\n",
    "        super().__init__()\n",
    "        C.__init__(self)\n",
    "        self.p=400\n",
    "\n",
    "objd=D()\n",
    "print(objd.x,objd.y,objd.z,objd.p)"
   ]
  }
 ],
 "metadata": {
  "kernelspec": {
   "display_name": "Python 3",
   "language": "python",
   "name": "python3"
  },
  "language_info": {
   "codemirror_mode": {
    "name": "ipython",
    "version": 3
   },
   "file_extension": ".py",
   "mimetype": "text/x-python",
   "name": "python",
   "nbconvert_exporter": "python",
   "pygments_lexer": "ipython3",
   "version": "3.13.1"
  }
 },
 "nbformat": 4,
 "nbformat_minor": 5
}
