{
 "cells": [
  {
   "cell_type": "code",
   "execution_count": 1,
   "id": "41130e87-043c-4c86-8336-404e024fc732",
   "metadata": {},
   "outputs": [
    {
     "name": "stdout",
     "output_type": "stream",
     "text": [
      "talk method of parent\n",
      "walk method of parent\n",
      "run method of child\n"
     ]
    }
   ],
   "source": [
    "class Parent:\n",
    "    def talk(self):\n",
    "        print(\"talk method of parent\")\n",
    "    def walk(self):\n",
    "        print(\"walk method of parent\")\n",
    "class Child(Parent):\n",
    "    def run(self):\n",
    "        print(\"run method of child\")\n",
    "\n",
    "child1=Child()\n",
    "child1.talk()\n",
    "child1.walk()\n",
    "child1.run()"
   ]
  },
  {
   "cell_type": "markdown",
   "id": "36f04574",
   "metadata": {},
   "source": [
    "Variables of parent class/base class/super class are automatically inherited in child class"
   ]
  }
 ],
 "metadata": {
  "kernelspec": {
   "display_name": "Python 3",
   "language": "python",
   "name": "python3"
  },
  "language_info": {
   "codemirror_mode": {
    "name": "ipython",
    "version": 3
   },
   "file_extension": ".py",
   "mimetype": "text/x-python",
   "name": "python",
   "nbconvert_exporter": "python",
   "pygments_lexer": "ipython3",
   "version": "3.13.1"
  }
 },
 "nbformat": 4,
 "nbformat_minor": 5
}
