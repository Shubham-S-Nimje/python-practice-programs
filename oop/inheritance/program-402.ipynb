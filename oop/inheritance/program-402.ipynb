{
 "cells": [
  {
   "cell_type": "code",
   "execution_count": 1,
   "id": "41130e87-043c-4c86-8336-404e024fc732",
   "metadata": {},
   "outputs": [
    {
     "name": "stdout",
     "output_type": "stream",
     "text": [
      "naresh,manager\n",
      "suresh,45000\n"
     ]
    }
   ],
   "source": [
    "class Person:\n",
    "    def __init__(self):\n",
    "        self.__name=None\n",
    "    def set_name(self,n):\n",
    "        self.__name=n\n",
    "    def get_name(self):\n",
    "        return self.__name\n",
    "\n",
    "class Employee(Person):\n",
    "    def __init__(self):\n",
    "        self.__job=None\n",
    "    def set_job(self,j):\n",
    "        self.__job=j\n",
    "    def get_job(self):\n",
    "        return self.__job\n",
    "\n",
    "class Customer(Person):\n",
    "    def __init__(self):\n",
    "        self.__credit_limit=None\n",
    "    def set_credit_limit(self,c):\n",
    "        self.__credit_limit=c\n",
    "    def get_credit_limit(self):\n",
    "        return self.__credit_limit\n",
    "\n",
    "emp1=Employee()\n",
    "emp1.set_name(\"naresh\")\n",
    "emp1.set_job(\"manager\")\n",
    "cust1=Customer()\n",
    "cust1.set_name(\"suresh\")\n",
    "cust1.set_credit_limit(45000)\n",
    "print(f'{emp1.get_name()},{emp1.get_job()}')\n",
    "print(f'{cust1.get_name()},{cust1.get_credit_limit()}')"
   ]
  }
 ],
 "metadata": {
  "kernelspec": {
   "display_name": "Python 3",
   "language": "python",
   "name": "python3"
  },
  "language_info": {
   "codemirror_mode": {
    "name": "ipython",
    "version": 3
   },
   "file_extension": ".py",
   "mimetype": "text/x-python",
   "name": "python",
   "nbconvert_exporter": "python",
   "pygments_lexer": "ipython3",
   "version": "3.13.1"
  }
 },
 "nbformat": 4,
 "nbformat_minor": 5
}
