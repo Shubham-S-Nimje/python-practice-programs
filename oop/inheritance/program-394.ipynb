{
 "cells": [
  {
   "cell_type": "code",
   "execution_count": 1,
   "id": "41130e87-043c-4c86-8336-404e024fc732",
   "metadata": {},
   "outputs": [
    {
     "name": "stdout",
     "output_type": "stream",
     "text": [
      "m1 of A class\n",
      "m2 of A class\n"
     ]
    }
   ],
   "source": [
    "class A: # Parent class/super class/base class\n",
    "    def m1(self):\n",
    "        print(\"m1 of A class\")\n",
    "    def m2(self):\n",
    "        print(\"m2 of A class\")\n",
    "class B(A): # Child class/sub class/dervied class\n",
    "    pass\n",
    "\n",
    "\n",
    "objb=B()\n",
    "objb.m1()\n",
    "objb.m2() "
   ]
  },
  {
   "cell_type": "code",
   "execution_count": null,
   "id": "60ec8c39-1459-4208-b4ff-58f4d434a222",
   "metadata": {},
   "outputs": [],
   "source": []
  }
 ],
 "metadata": {
  "kernelspec": {
   "display_name": "Python 3",
   "language": "python",
   "name": "python3"
  },
  "language_info": {
   "codemirror_mode": {
    "name": "ipython",
    "version": 3
   },
   "file_extension": ".py",
   "mimetype": "text/x-python",
   "name": "python",
   "nbconvert_exporter": "python",
   "pygments_lexer": "ipython3",
   "version": "3.13.1"
  }
 },
 "nbformat": 4,
 "nbformat_minor": 5
}
