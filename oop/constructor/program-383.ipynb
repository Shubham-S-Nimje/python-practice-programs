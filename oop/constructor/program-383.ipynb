{
 "cells": [
  {
   "cell_type": "code",
   "execution_count": 1,
   "id": "41130e87-043c-4c86-8336-404e024fc732",
   "metadata": {},
   "outputs": [
    {
     "name": "stdout",
     "output_type": "stream",
     "text": [
      "101,naresh\n",
      "102,suresh\n"
     ]
    }
   ],
   "source": [
    "class Student:\n",
    "    def __init__(self,r,n):\n",
    "        self.__rollno=r\n",
    "        self.__name=n\n",
    "    def print_student(self): # Instance method\n",
    "        print(f'{self.__rollno},{self.__name}')\n",
    "\n",
    "\n",
    "stud1=Student(101,\"naresh\")\n",
    "stud1.print_student()\n",
    "stud2=Student(102,\"suresh\")\n",
    "stud2.print_student()"
   ]
  },
  {
   "cell_type": "code",
   "execution_count": null,
   "id": "60ec8c39-1459-4208-b4ff-58f4d434a222",
   "metadata": {},
   "outputs": [],
   "source": []
  }
 ],
 "metadata": {
  "kernelspec": {
   "display_name": "Python 3 (ipykernel)",
   "language": "python",
   "name": "python3"
  },
  "language_info": {
   "codemirror_mode": {
    "name": "ipython",
    "version": 3
   },
   "file_extension": ".py",
   "mimetype": "text/x-python",
   "name": "python",
   "nbconvert_exporter": "python",
   "pygments_lexer": "ipython3",
   "version": "3.13.1"
  }
 },
 "nbformat": 4,
 "nbformat_minor": 5
}
