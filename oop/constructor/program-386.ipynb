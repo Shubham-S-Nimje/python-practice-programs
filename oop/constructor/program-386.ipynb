{
 "cells": [
  {
   "cell_type": "code",
   "execution_count": 1,
   "id": "41130e87-043c-4c86-8336-404e024fc732",
   "metadata": {},
   "outputs": [
    {
     "name": "stdout",
     "output_type": "stream",
     "text": [
      "0.0\n",
      "9000.0\n",
      "7000.0\n"
     ]
    }
   ],
   "source": [
    "class Account:\n",
    "    def __init__(self,a,c,b=0.0):\n",
    "        self.__accno=a\n",
    "        self.__cname=c\n",
    "        self.__balance=b\n",
    "    def deposit(self,t):\n",
    "        self.__balance=self.__balance+t\n",
    "    def withdraw(self,t):\n",
    "        if t>self.__balance:\n",
    "            print(\"Insuff Balance\")\n",
    "        else:\n",
    "            self.__balance=self.__balance-t\n",
    "    def find_bal(self):\n",
    "        return self.__balance\n",
    "\n",
    "acc1=Account(101,\"naresh\")\n",
    "b=acc1.find_bal()\n",
    "print(b)\n",
    "acc1.deposit(9000)\n",
    "b=acc1.find_bal()\n",
    "print(b)\n",
    "acc1.withdraw(2000)\n",
    "b=acc1.find_bal()\n",
    "print(b)"
   ]
  },
  {
   "cell_type": "code",
   "execution_count": null,
   "id": "60ec8c39-1459-4208-b4ff-58f4d434a222",
   "metadata": {},
   "outputs": [],
   "source": []
  }
 ],
 "metadata": {
  "kernelspec": {
   "display_name": "Python 3 (ipykernel)",
   "language": "python",
   "name": "python3"
  },
  "language_info": {
   "codemirror_mode": {
    "name": "ipython",
    "version": 3
   },
   "file_extension": ".py",
   "mimetype": "text/x-python",
   "name": "python",
   "nbconvert_exporter": "python",
   "pygments_lexer": "ipython3",
   "version": "3.13.1"
  }
 },
 "nbformat": 4,
 "nbformat_minor": 5
}
