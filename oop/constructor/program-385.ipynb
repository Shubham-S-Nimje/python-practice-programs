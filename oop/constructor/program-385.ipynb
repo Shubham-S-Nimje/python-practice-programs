{
 "cells": [
  {
   "cell_type": "code",
   "execution_count": 1,
   "id": "41130e87-043c-4c86-8336-404e024fc732",
   "metadata": {},
   "outputs": [
    {
     "name": "stdout",
     "output_type": "stream",
     "text": [
      "Area of triangle is 0.90\n"
     ]
    }
   ],
   "source": [
    "class Triangle:\n",
    "    def __init__(self):\n",
    "        self.__base=0.0\n",
    "        self.__height=0.0\n",
    "    def set_data(self,b,h):\n",
    "        self.__base=b\n",
    "        self.__height=h\n",
    "    def find_area(self):\n",
    "        a=self.__base*self.__height*0.5\n",
    "        return a\n",
    "\n",
    "t1=Triangle()\n",
    "t1.set_data(1.2,1.5)\n",
    "area1=t1.find_area()\n",
    "print(f'Area of triangle is {area1:.2f}')"
   ]
  },
  {
   "cell_type": "code",
   "execution_count": null,
   "id": "60ec8c39-1459-4208-b4ff-58f4d434a222",
   "metadata": {},
   "outputs": [],
   "source": []
  }
 ],
 "metadata": {
  "kernelspec": {
   "display_name": "Python 3 (ipykernel)",
   "language": "python",
   "name": "python3"
  },
  "language_info": {
   "codemirror_mode": {
    "name": "ipython",
    "version": 3
   },
   "file_extension": ".py",
   "mimetype": "text/x-python",
   "name": "python",
   "nbconvert_exporter": "python",
   "pygments_lexer": "ipython3",
   "version": "3.13.1"
  }
 },
 "nbformat": 4,
 "nbformat_minor": 5
}
