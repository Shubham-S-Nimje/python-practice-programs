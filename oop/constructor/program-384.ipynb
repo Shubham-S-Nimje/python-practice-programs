{
 "cells": [
  {
   "cell_type": "code",
   "execution_count": 1,
   "id": "41130e87-043c-4c86-8336-404e024fc732",
   "metadata": {},
   "outputs": [
    {
     "name": "stdout",
     "output_type": "stream",
     "text": [
      "inside m1 of A\n"
     ]
    }
   ],
   "source": [
    "class A:\n",
    "    def m1(self): # Instance method\n",
    "        print(\"inside m1 of A\")\n",
    "    def __m2(self): # Instance method\n",
    "        print(\"inside m2 of A\")\n",
    "\n",
    "obja1=A()\n",
    "obja1.m1()\n",
    "#obja1.__m2() error"
   ]
  },
  {
   "cell_type": "code",
   "execution_count": null,
   "id": "60ec8c39-1459-4208-b4ff-58f4d434a222",
   "metadata": {},
   "outputs": [],
   "source": []
  }
 ],
 "metadata": {
  "kernelspec": {
   "display_name": "Python 3 (ipykernel)",
   "language": "python",
   "name": "python3"
  },
  "language_info": {
   "codemirror_mode": {
    "name": "ipython",
    "version": 3
   },
   "file_extension": ".py",
   "mimetype": "text/x-python",
   "name": "python",
   "nbconvert_exporter": "python",
   "pygments_lexer": "ipython3",
   "version": "3.13.1"
  }
 },
 "nbformat": 4,
 "nbformat_minor": 5
}
