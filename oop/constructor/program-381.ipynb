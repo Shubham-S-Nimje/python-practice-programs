{
 "cells": [
  {
   "cell_type": "code",
   "execution_count": 1,
   "id": "41130e87-043c-4c86-8336-404e024fc732",
   "metadata": {},
   "outputs": [
    {
     "name": "stdout",
     "output_type": "stream",
     "text": [
      "101 naresh 60000\n",
      "102 suresh 0.0\n"
     ]
    }
   ],
   "source": [
    "class Account:\n",
    "    def __init__(self,a,cn,b=0.0):\n",
    "        self.accno=a\n",
    "        self.cname=cn\n",
    "        self.balance=b\n",
    "\n",
    "cust1=Account(101,\"naresh\",60000)\n",
    "cust2=Account(102,\"suresh\")\n",
    "print(cust1.accno,cust1.cname,cust1.balance)\n",
    "print(cust2.accno,cust2.cname,cust2.balance)\n"
   ]
  },
  {
   "cell_type": "code",
   "execution_count": null,
   "id": "60ec8c39-1459-4208-b4ff-58f4d434a222",
   "metadata": {},
   "outputs": [],
   "source": []
  }
 ],
 "metadata": {
  "kernelspec": {
   "display_name": "Python 3 (ipykernel)",
   "language": "python",
   "name": "python3"
  },
  "language_info": {
   "codemirror_mode": {
    "name": "ipython",
    "version": 3
   },
   "file_extension": ".py",
   "mimetype": "text/x-python",
   "name": "python",
   "nbconvert_exporter": "python",
   "pygments_lexer": "ipython3",
   "version": "3.13.1"
  }
 },
 "nbformat": 4,
 "nbformat_minor": 5
}
