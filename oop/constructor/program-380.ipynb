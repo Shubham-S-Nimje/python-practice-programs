{
 "cells": [
  {
   "cell_type": "code",
   "execution_count": null,
   "id": "c0324c3e-3fb5-4c74-85fe-4c12f999e5b9",
   "metadata": {},
   "outputs": [
    {
     "name": "stdout",
     "output_type": "stream",
     "text": [
      "Hello\n"
     ]
    }
   ],
   "source": [
    "print(\"Hello\")"
   ]
  },
  {
   "cell_type": "code",
   "execution_count": null,
   "id": "b3efe9d8-e74d-48a3-8f60-c355eb102304",
   "metadata": {},
   "outputs": [
    {
     "name": "stdout",
     "output_type": "stream",
     "text": [
      "Hello Welcome to Jupyter Notebook\n"
     ]
    }
   ],
   "source": [
    "def fun1():\n",
    "    print(\"Hello Welcome to Jupyter Notebook\")\n",
    "fun1()"
   ]
  },
  {
   "cell_type": "raw",
   "id": "dddf1468-8b7b-419d-a49f-10e50b4866f1",
   "metadata": {},
   "source": [
    "Within class we can write constructor with parameters or without parameters.\n",
    "Constructor with parameters receives values\n",
    "Constructor without parameters does not receives values"
   ]
  },
  {
   "cell_type": "code",
   "execution_count": 1,
   "id": "41130e87-043c-4c86-8336-404e024fc732",
   "metadata": {},
   "outputs": [
    {
     "name": "stdout",
     "output_type": "stream",
     "text": [
      "101 naresh 5000\n",
      "102 suresh 9000\n"
     ]
    }
   ],
   "source": [
    "class Employee:\n",
    "    def __init__(self,e,en,s):\n",
    "        self.empno=e\n",
    "        self.ename=en\n",
    "        self.salary=s\n",
    "\n",
    "emp1=Employee(101,\"naresh\",5000)\n",
    "print(emp1.empno,emp1.ename,emp1.salary)\n",
    "emp2=Employee(102,\"suresh\",9000)\n",
    "print(emp2.empno,emp2.ename,emp2.salary)"
   ]
  },
  {
   "cell_type": "code",
   "execution_count": null,
   "id": "60ec8c39-1459-4208-b4ff-58f4d434a222",
   "metadata": {},
   "outputs": [],
   "source": []
  }
 ],
 "metadata": {
  "kernelspec": {
   "display_name": "Python 3 (ipykernel)",
   "language": "python",
   "name": "python3"
  },
  "language_info": {
   "codemirror_mode": {
    "name": "ipython",
    "version": 3
   },
   "file_extension": ".py",
   "mimetype": "text/x-python",
   "name": "python",
   "nbconvert_exporter": "python",
   "pygments_lexer": "ipython3",
   "version": "3.13.1"
  }
 },
 "nbformat": 4,
 "nbformat_minor": 5
}
