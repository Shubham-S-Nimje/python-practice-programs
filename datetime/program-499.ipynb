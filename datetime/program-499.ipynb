{
 "cells": [
  {
   "cell_type": "code",
   "execution_count": 1,
   "id": "6f5516da",
   "metadata": {},
   "outputs": [
    {
     "name": "stdout",
     "output_type": "stream",
     "text": [
      "2025-05-24 00:00:00\n",
      "2025-05-24 10:40:30\n",
      "2025-05-24\n",
      "10:40:30\n",
      "2025-05-31 12:49:45.904425\n"
     ]
    }
   ],
   "source": [
    "import datetime\n",
    "\n",
    "dt=datetime.datetime(2025,5,24)\n",
    "print(dt)\n",
    "dt1=datetime.datetime(2025,5,24,10,40,30)\n",
    "print(dt1)\n",
    "d1=dt1.date()\n",
    "t1=dt1.time()\n",
    "print(d1)\n",
    "print(t1)\n",
    "dt2=datetime.datetime.today()\n",
    "print(dt2)\n"
   ]
  }
 ],
 "metadata": {
  "kernelspec": {
   "display_name": ".venv",
   "language": "python",
   "name": "python3"
  },
  "language_info": {
   "codemirror_mode": {
    "name": "ipython",
    "version": 3
   },
   "file_extension": ".py",
   "mimetype": "text/x-python",
   "name": "python",
   "nbconvert_exporter": "python",
   "pygments_lexer": "ipython3",
   "version": "3.13.1"
  }
 },
 "nbformat": 4,
 "nbformat_minor": 5
}
