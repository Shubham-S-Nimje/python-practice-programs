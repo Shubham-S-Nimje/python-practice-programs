{
 "cells": [
  {
   "cell_type": "code",
   "execution_count": null,
   "id": "6f5516da",
   "metadata": {},
   "outputs": [
    {
     "name": "stdout",
     "output_type": "stream",
     "text": [
      "EvenNo :2\n",
      "EvenNo :4\n",
      "EvenNo :6\n",
      "EvenNo :8\n",
      "EvenNo :10\n",
      "EvenNo :12\n",
      "EvenNo :14\n",
      "EvenNo :16\n",
      "EvenNo :18\n",
      "EvenNo :20\n",
      "OddNo :1\n",
      "OddNo :3\n",
      "OddNo :5\n",
      "OddNo :7\n",
      "OddNo :9\n",
      "OddNo :11\n",
      "OddNo :13\n",
      "OddNo :15\n",
      "OddNo :17\n",
      "OddNo :19\n"
     ]
    }
   ],
   "source": [
    "import threading\n",
    "\n",
    "def even():\n",
    "    for num in range(1,21):\n",
    "        if num%2==0:\n",
    "            print(f'EvenNo :{num}')\n",
    "\n",
    "def odd():\n",
    "    for num in range(1,21):\n",
    "        if num%2!=0:\n",
    "            print(f'OddNo :{num}')\n",
    "\n",
    "\n",
    "t1=threading.Thread(target=even)\n",
    "t2=threading.Thread(target=odd)\n",
    "\n",
    "t1.start()\n",
    "t2.start()"
   ]
  }
 ],
 "metadata": {
  "kernelspec": {
   "display_name": ".venv",
   "language": "python",
   "name": "python3"
  },
  "language_info": {
   "codemirror_mode": {
    "name": "ipython",
    "version": 3
   },
   "file_extension": ".py",
   "mimetype": "text/x-python",
   "name": "python",
   "nbconvert_exporter": "python",
   "pygments_lexer": "ipython3",
   "version": "3.13.1"
  }
 },
 "nbformat": 4,
 "nbformat_minor": 5
}
