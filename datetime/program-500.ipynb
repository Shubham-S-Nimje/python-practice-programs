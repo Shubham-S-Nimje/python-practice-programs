{
 "cells": [
  {
   "cell_type": "code",
   "execution_count": 1,
   "id": "6f5516da",
   "metadata": {},
   "outputs": [
    {
     "name": "stdout",
     "output_type": "stream",
     "text": [
      "2025-05-31 13:19:56.089867\n",
      "Sat\n",
      "Saturday\n",
      "31\n",
      "Saturday 31\n",
      "31 Sat\n",
      "May\n",
      "May\n",
      "05\n",
      "25\n",
      "2025\n",
      "Saturday 31 May 2025\n",
      "13\n",
      "19\n",
      "56\n",
      "13:19:56\n",
      "13:19:56 PM\n",
      "151\n",
      "21\n",
      "Sat May 31 13:19:56 2025\n",
      "05/31/25\n",
      "13:19:56\n"
     ]
    }
   ],
   "source": [
    "import datetime\n",
    "\n",
    "dt=datetime.datetime.today()\n",
    "print(dt)\n",
    "print(dt.strftime(\"%a\"))\n",
    "print(dt.strftime(\"%A\"))\n",
    "print(dt.strftime(\"%d\"))\n",
    "print(dt.strftime(\"%A %d\"))\n",
    "print(dt.strftime(\"%d %a\"))\n",
    "print(dt.strftime(\"%b\"))\n",
    "print(dt.strftime(\"%B\"))\n",
    "print(dt.strftime(\"%m\"))\n",
    "print(dt.strftime(\"%y\"))\n",
    "print(dt.strftime(\"%Y\"))\n",
    "print(dt.strftime(\"%A %d %B %Y\"))\n",
    "print(dt.strftime(\"%H\"))\n",
    "print(dt.strftime(\"%M\"))\n",
    "print(dt.strftime(\"%S\"))\n",
    "print(dt.strftime(\"%H:%M:%S\"))\n",
    "print(dt.strftime(\"%H:%M:%S %p\"))\n",
    "print(dt.strftime(\"%j\"))\n",
    "print(dt.strftime(\"%U\"))\n",
    "print(dt.strftime(\"%c\"))\n",
    "print(dt.strftime(\"%x\"))\n",
    "print(dt.strftime(\"%X\"))"
   ]
  }
 ],
 "metadata": {
  "kernelspec": {
   "display_name": ".venv",
   "language": "python",
   "name": "python3"
  },
  "language_info": {
   "codemirror_mode": {
    "name": "ipython",
    "version": 3
   },
   "file_extension": ".py",
   "mimetype": "text/x-python",
   "name": "python",
   "nbconvert_exporter": "python",
   "pygments_lexer": "ipython3",
   "version": "3.13.1"
  }
 },
 "nbformat": 4,
 "nbformat_minor": 5
}
