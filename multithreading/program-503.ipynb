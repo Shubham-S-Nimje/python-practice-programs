{
 "cells": [
  {
   "cell_type": "code",
   "execution_count": 1,
   "id": "6f5516da",
   "metadata": {},
   "outputs": [
    {
     "name": "stdout",
     "output_type": "stream",
     "text": [
      "2 Even\n",
      "4 Even\n",
      "6 Even\n",
      "8 Even\n",
      "10 Even\n",
      "12 Even\n",
      "14 Even\n",
      "16 Even\n",
      "18 Even\n",
      "20 Even\n",
      "1 Odd\n",
      "3 Odd\n",
      "5 Odd\n",
      "7 Odd\n",
      "9 Odd\n",
      "11 Odd\n",
      "13 Odd\n",
      "15 Odd\n",
      "17 Odd\n",
      "19 Odd\n"
     ]
    }
   ],
   "source": [
    "import threading\n",
    "class EvenThread(threading.Thread):\n",
    "    def run(self): # Overriding Method\n",
    "        for num in range(1,21):\n",
    "            if num%2==0:\n",
    "                print(f'{num} Even')\n",
    "\n",
    "class OddThread(threading.Thread):\n",
    "    def run(self): # Overriding Method\n",
    "        for num in range(1,21):\n",
    "            if num%2!=0:\n",
    "                print(f'{num} Odd')\n",
    "\n",
    "   \n",
    "t1=EvenThread()\n",
    "t2=OddThread()\n",
    "t1.start()\n",
    "t2.start()"
   ]
  }
 ],
 "metadata": {
  "kernelspec": {
   "display_name": ".venv",
   "language": "python",
   "name": "python3"
  },
  "language_info": {
   "codemirror_mode": {
    "name": "ipython",
    "version": 3
   },
   "file_extension": ".py",
   "mimetype": "text/x-python",
   "name": "python",
   "nbconvert_exporter": "python",
   "pygments_lexer": "ipython3",
   "version": "3.13.1"
  }
 },
 "nbformat": 4,
 "nbformat_minor": 5
}
