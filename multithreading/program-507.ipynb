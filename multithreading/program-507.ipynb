{
 "cells": [
  {
   "cell_type": "code",
   "execution_count": 1,
   "id": "6f5516da",
   "metadata": {},
   "outputs": [
    {
     "name": "stdout",
     "output_type": "stream",
     "text": [
      "naresh your seats are reserved\n",
      "40 are available\n",
      "suresh your seats are reserved\n",
      "28 are available\n"
     ]
    }
   ],
   "source": [
    "import threading\n",
    "\n",
    "class Bus:\n",
    "    def __init__(self):\n",
    "        self.seats=50\n",
    "        self.l=threading.Lock()\n",
    "    def reserve(self,name,s):\n",
    "        self.l.acquire() # Begining of Synchronization\n",
    "        for i in range(s):\n",
    "            self.seats=self.seats-1\n",
    "        print(f'{name} your seats are reserved')\n",
    "        print(f'{self.seats} are available')\n",
    "        self.l.release() # End of Synchronization\n",
    "    \n",
    "        \n",
    "class ReserveThread(threading.Thread):\n",
    "    def __init__(self,bus,name,s):\n",
    "        super().__init__()\n",
    "        self.bus=bus\n",
    "        self.name=name\n",
    "        self.s=s\n",
    "    def run(self): #overriding method\n",
    "        self.bus.reserve(self.name,self.s)\n",
    "\n",
    "\n",
    "#Reservation Server\n",
    "bus1=Bus()\n",
    "t1=ReserveThread(bus1,\"naresh\",10)\n",
    "t2=ReserveThread(bus1,\"suresh\",12)\n",
    "t1.start()\n",
    "t2.start()"
   ]
  }
 ],
 "metadata": {
  "kernelspec": {
   "display_name": ".venv",
   "language": "python",
   "name": "python3"
  },
  "language_info": {
   "codemirror_mode": {
    "name": "ipython",
    "version": 3
   },
   "file_extension": ".py",
   "mimetype": "text/x-python",
   "name": "python",
   "nbconvert_exporter": "python",
   "pygments_lexer": "ipython3",
   "version": "3.13.1"
  }
 },
 "nbformat": 4,
 "nbformat_minor": 5
}
