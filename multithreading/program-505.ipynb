{
 "cells": [
  {
   "cell_type": "code",
   "execution_count": 1,
   "id": "6f5516da",
   "metadata": {},
   "outputs": [
    {
     "name": "stdout",
     "output_type": "stream",
     "text": [
      "Sum is 4950\n"
     ]
    }
   ],
   "source": [
    "import threading\n",
    "s=0\n",
    "def sum_of_numbers(m,n):\n",
    "    global s \n",
    "    for i in range(m,n):\n",
    "        s=s+i\n",
    "\n",
    "\n",
    "t1=threading.Thread(target=sum_of_numbers,args=(1,100))\n",
    "t1.start()\n",
    "t1.join()\n",
    "print(f'Sum is {s}')"
   ]
  }
 ],
 "metadata": {
  "kernelspec": {
   "display_name": ".venv",
   "language": "python",
   "name": "python3"
  },
  "language_info": {
   "codemirror_mode": {
    "name": "ipython",
    "version": 3
   },
   "file_extension": ".py",
   "mimetype": "text/x-python",
   "name": "python",
   "nbconvert_exporter": "python",
   "pygments_lexer": "ipython3",
   "version": "3.13.1"
  }
 },
 "nbformat": 4,
 "nbformat_minor": 5
}
