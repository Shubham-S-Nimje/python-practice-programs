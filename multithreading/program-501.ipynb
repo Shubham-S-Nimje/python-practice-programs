{
 "cells": [
  {
   "cell_type": "code",
   "execution_count": 1,
   "id": "6f5516da",
   "metadata": {},
   "outputs": [
    {
     "name": "stdout",
     "output_type": "stream",
     "text": [
      "task1\n",
      "task2\n",
      "task3\n"
     ]
    }
   ],
   "source": [
    "def task1():\n",
    "    print(\"task1\")\n",
    "\n",
    "def task2():\n",
    "    print(\"task2\")\n",
    "\n",
    "def task3():\n",
    "    print(\"task3\")\n",
    "\n",
    "\n",
    "task1()\n",
    "task2()\n",
    "task3()"
   ]
  }
 ],
 "metadata": {
  "kernelspec": {
   "display_name": ".venv",
   "language": "python",
   "name": "python3"
  },
  "language_info": {
   "codemirror_mode": {
    "name": "ipython",
    "version": 3
   },
   "file_extension": ".py",
   "mimetype": "text/x-python",
   "name": "python",
   "nbconvert_exporter": "python",
   "pygments_lexer": "ipython3",
   "version": "3.13.1"
  }
 },
 "nbformat": 4,
 "nbformat_minor": 5
}
