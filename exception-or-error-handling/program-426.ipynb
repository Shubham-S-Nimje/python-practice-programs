{
 "cells": [
  {
   "cell_type": "markdown",
   "id": "1ebe6b5a",
   "metadata": {},
   "source": [
    " Division 2 numbers"
   ]
  },
  {
   "cell_type": "code",
   "execution_count": 1,
   "id": "147c2237",
   "metadata": {},
   "outputs": [
    {
     "name": "stdout",
     "output_type": "stream",
     "text": [
      "1.Deposit\n",
      "2.Withdraw\n",
      "3.Account Details\n",
      "4.Exit\n",
      "Transaction Completed\n",
      "1.Deposit\n",
      "2.Withdraw\n",
      "3.Account Details\n",
      "4.Exit\n",
      "101,naresh,45200\n",
      "1.Deposit\n",
      "2.Withdraw\n",
      "3.Account Details\n",
      "4.Exit\n",
      "101,naresh,45200\n",
      "1.Deposit\n",
      "2.Withdraw\n",
      "3.Account Details\n",
      "4.Exit\n"
     ]
    }
   ],
   "source": [
    "class InsuffBalError(Exception):\n",
    "    pass\n",
    "\n",
    "class Account:\n",
    "    def __init__(self,a,cn,b):\n",
    "        self.__accno=a\n",
    "        self.__cname=cn\n",
    "        self.__balance=b\n",
    "    def deposit(self,t):\n",
    "        self.__balance=self.__balance+t\n",
    "    def withdraw(self,t):\n",
    "        if self.__balance<t:\n",
    "            raise InsuffBalError()\n",
    "        else:\n",
    "            self.__balance=self.__balance-t\n",
    "    def __str__(self):\n",
    "        return f'{self.__accno},{self.__cname},{self.__balance}'\n",
    "\n",
    "\n",
    "\n",
    "#main/ATM\n",
    "acc=Account(101,\"naresh\",45000)\n",
    "while True:\n",
    "    print(\"1.Deposit\")\n",
    "    print(\"2.Withdraw\")\n",
    "    print(\"3.Account Details\")\n",
    "    print(\"4.Exit\")\n",
    "    opt=int(input(\"Enter Your Option:\"))\n",
    "    if opt==1:\n",
    "        amt=int(input(\"Amount:\"))\n",
    "        acc.deposit(amt)\n",
    "        print(\"Transaction Completed\")\n",
    "    elif opt==2:\n",
    "        amt=int(input(\"Amount:\"))\n",
    "        try:\n",
    "            acc.withdraw(amt)\n",
    "            print(\"Transaction Completed\")\n",
    "        except InsuffBalError:\n",
    "            print(\"Insuff Balance\")\n",
    "    elif opt==3:\n",
    "        print(acc)\n",
    "    elif opt==4:\n",
    "        break"
   ]
  }
 ],
 "metadata": {
  "kernelspec": {
   "display_name": "Python 3",
   "language": "python",
   "name": "python3"
  },
  "language_info": {
   "codemirror_mode": {
    "name": "ipython",
    "version": 3
   },
   "file_extension": ".py",
   "mimetype": "text/x-python",
   "name": "python",
   "nbconvert_exporter": "python",
   "pygments_lexer": "ipython3",
   "version": "3.13.1"
  }
 },
 "nbformat": 4,
 "nbformat_minor": 5
}
