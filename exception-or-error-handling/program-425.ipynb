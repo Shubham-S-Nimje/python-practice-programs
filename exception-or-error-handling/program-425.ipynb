{
 "cells": [
  {
   "cell_type": "markdown",
   "id": "1ebe6b5a",
   "metadata": {},
   "source": [
    " Division 2 numbers"
   ]
  },
  {
   "cell_type": "code",
   "execution_count": 1,
   "id": "147c2237",
   "metadata": {},
   "outputs": [
    {
     "name": "stdout",
     "output_type": "stream",
     "text": [
      "cannot multiply number with zero\n",
      "Input only integers\n",
      "result is 6*3=18\n"
     ]
    }
   ],
   "source": [
    "class ZeroMultiplyError(Exception):\n",
    "    pass\n",
    "\n",
    "def multiply(n1,n2):\n",
    "    if n1==0 or n2==0:\n",
    "        raise ZeroMultiplyError()\n",
    "    else:\n",
    "        return n1*n2\n",
    "\n",
    "\n",
    "\n",
    "while True:\n",
    "    try:\n",
    "        n1=int(input(\"First Integer \"))\n",
    "        n2=int(input(\"Second Integer \"))\n",
    "        n3=multiply(n1,n2)\n",
    "        print(f'result is {n1}*{n2}={n3}')\n",
    "        break\n",
    "    except ValueError:\n",
    "        print(\"Input only integers\")\n",
    "    except ZeroMultiplyError:\n",
    "        print(\"cannot multiply number with zero\")"
   ]
  }
 ],
 "metadata": {
  "kernelspec": {
   "display_name": "Python 3",
   "language": "python",
   "name": "python3"
  },
  "language_info": {
   "codemirror_mode": {
    "name": "ipython",
    "version": 3
   },
   "file_extension": ".py",
   "mimetype": "text/x-python",
   "name": "python",
   "nbconvert_exporter": "python",
   "pygments_lexer": "ipython3",
   "version": "3.13.1"
  }
 },
 "nbformat": 4,
 "nbformat_minor": 5
}
