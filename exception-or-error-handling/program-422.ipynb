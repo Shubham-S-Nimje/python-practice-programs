{
 "cells": [
  {
   "cell_type": "markdown",
   "id": "1ebe6b5a",
   "metadata": {},
   "source": [
    " Division 2 numbers"
   ]
  },
  {
   "cell_type": "code",
   "execution_count": 1,
   "id": "147c2237",
   "metadata": {},
   "outputs": [
    {
     "name": "stdout",
     "output_type": "stream",
     "text": [
      "Cannot divide number with zero\n",
      "AND input value must be integer\n",
      "Cannot divide number with zero\n",
      "AND input value must be integer\n",
      "Division of 6/2=3.0\n"
     ]
    }
   ],
   "source": [
    "while True:\n",
    "    try:\n",
    "        n1=int(input(\"Enter First Number :\"))\n",
    "        n2=int(input(\"Enter Second Number :\"))\n",
    "        n3=n1/n2\n",
    "        print(f'Division of {n1}/{n2}={n3}')\n",
    "        break\n",
    "    except (ZeroDivisionError,ValueError):\n",
    "        print(f'''Cannot divide number with zero\n",
    "AND input value must be integer''')"
   ]
  }
 ],
 "metadata": {
  "kernelspec": {
   "display_name": "Python 3",
   "language": "python",
   "name": "python3"
  },
  "language_info": {
   "codemirror_mode": {
    "name": "ipython",
    "version": 3
   },
   "file_extension": ".py",
   "mimetype": "text/x-python",
   "name": "python",
   "nbconvert_exporter": "python",
   "pygments_lexer": "ipython3",
   "version": "3.13.1"
  }
 },
 "nbformat": 4,
 "nbformat_minor": 5
}
