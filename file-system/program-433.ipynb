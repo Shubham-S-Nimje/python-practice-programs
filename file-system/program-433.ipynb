{
 "cells": [
  {
   "cell_type": "markdown",
   "id": "1ebe6b5a",
   "metadata": {},
   "source": [
    " Division 2 numbers"
   ]
  },
  {
   "cell_type": "code",
   "execution_count": 3,
   "id": "147c2237",
   "metadata": {},
   "outputs": [],
   "source": [
    "f=open(\"marks.txt\",\"a\")\n",
    "while True:\n",
    "    rollno=int(input(\"Rollno :\"))\n",
    "    name=input(\"Name :\")\n",
    "    sub1=int(input(\"Subject1 Marks :\"))\n",
    "    sub2=int(input(\"Subject2 Marks \"))\n",
    "    print(rollno,name,sub1,sub2,file=f)\n",
    "    ans=input(\"Add another student?\")\n",
    "    if ans==\"no\":\n",
    "        break\n",
    "f.close()"
   ]
  }
 ],
 "metadata": {
  "kernelspec": {
   "display_name": ".venv",
   "language": "python",
   "name": "python3"
  },
  "language_info": {
   "codemirror_mode": {
    "name": "ipython",
    "version": 3
   },
   "file_extension": ".py",
   "mimetype": "text/x-python",
   "name": "python",
   "nbconvert_exporter": "python",
   "pygments_lexer": "ipython3",
   "version": "3.13.1"
  }
 },
 "nbformat": 4,
 "nbformat_minor": 5
}
