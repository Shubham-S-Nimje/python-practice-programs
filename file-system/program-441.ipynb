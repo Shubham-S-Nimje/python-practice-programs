{
 "cells": [
  {
   "cell_type": "markdown",
   "id": "1ebe6b5a",
   "metadata": {},
   "source": [
    "## Reading student.csv"
   ]
  },
  {
   "cell_type": "code",
   "execution_count": 1,
   "id": "147c2237",
   "metadata": {},
   "outputs": [
    {
     "name": "stdout",
     "output_type": "stream",
     "text": [
      "{'rollno': '1', 'name': 'n', 'course': 'py'}\n",
      "{'rollno': '2', 'name': 'v', 'course': 'java'}\n",
      "1 n py\n",
      "2 v java\n"
     ]
    }
   ],
   "source": [
    "import csv\n",
    "f=open(\"student.csv\",\"r\")\n",
    "dr=csv.DictReader(f)\n",
    "for row in dr:\n",
    "    print(row)\n",
    "f.close()\n",
    "\n",
    "f=open(\"student.csv\",\"r\")\n",
    "dr=csv.DictReader(f)\n",
    "for row in dr:\n",
    "    print(row['rollno'],row['name'],row['course'])\n",
    "f.close()"
   ]
  }
 ],
 "metadata": {
  "kernelspec": {
   "display_name": ".venv",
   "language": "python",
   "name": "python3"
  },
  "language_info": {
   "codemirror_mode": {
    "name": "ipython",
    "version": 3
   },
   "file_extension": ".py",
   "mimetype": "text/x-python",
   "name": "python",
   "nbconvert_exporter": "python",
   "pygments_lexer": "ipython3",
   "version": "3.13.1"
  }
 },
 "nbformat": 4,
 "nbformat_minor": 5
}
