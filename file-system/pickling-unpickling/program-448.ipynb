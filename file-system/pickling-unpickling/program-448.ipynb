{
 "cells": [
  {
   "cell_type": "markdown",
   "id": "1ebe6b5a",
   "metadata": {},
   "source": [
    "# Example of pickling"
   ]
  },
  {
   "cell_type": "code",
   "execution_count": 2,
   "id": "147c2237",
   "metadata": {},
   "outputs": [],
   "source": [
    "import pickle\n",
    "\n",
    "f=open(\"file3.ser\",\"wb\")\n",
    "pickle.dump(65,f)\n",
    "pickle.dump(1.5,f)\n",
    "pickle.dump(1+2j,f)\n",
    "pickle.dump(\"PYTHON\",f)\n",
    "pickle.dump([10,20,30],f)\n",
    "f.close()"
   ]
  },
  {
   "cell_type": "markdown",
   "id": "a75f6915",
   "metadata": {},
   "source": [
    "# Example of unpickling"
   ]
  },
  {
   "cell_type": "code",
   "execution_count": 3,
   "id": "16100125",
   "metadata": {},
   "outputs": [
    {
     "name": "stdout",
     "output_type": "stream",
     "text": [
      "65 1.5 (1+2j) PYTHON [10, 20, 30]\n"
     ]
    }
   ],
   "source": [
    "import pickle\n",
    "f=open(\"file3.ser\",\"rb\")\n",
    "obj1=pickle.load(f)\n",
    "obj2=pickle.load(f)\n",
    "obj3=pickle.load(f)\n",
    "obj4=pickle.load(f)\n",
    "obj5=pickle.load(f)\n",
    "print(obj1,obj2,obj3,obj4,obj5)\n",
    "f.close()"
   ]
  }
 ],
 "metadata": {
  "kernelspec": {
   "display_name": ".venv",
   "language": "python",
   "name": "python3"
  },
  "language_info": {
   "codemirror_mode": {
    "name": "ipython",
    "version": 3
   },
   "file_extension": ".py",
   "mimetype": "text/x-python",
   "name": "python",
   "nbconvert_exporter": "python",
   "pygments_lexer": "ipython3",
   "version": "3.13.1"
  }
 },
 "nbformat": 4,
 "nbformat_minor": 5
}
