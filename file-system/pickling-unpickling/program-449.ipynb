{
 "cells": [
  {
   "cell_type": "markdown",
   "id": "1ebe6b5a",
   "metadata": {},
   "source": [
    "# Example of pickling"
   ]
  },
  {
   "cell_type": "code",
   "execution_count": 1,
   "id": "6f5516da",
   "metadata": {},
   "outputs": [],
   "source": [
    "class Employee:\n",
    "    def __init__(self,e,en,s):\n",
    "        self.__empno=e\n",
    "        self.__ename=en\n",
    "        self.__salary=s\n",
    "    \n",
    "    def print_emp(self):\n",
    "        print(f'{self.__empno},{self.__ename},{self.__salary}')"
   ]
  },
  {
   "cell_type": "code",
   "execution_count": null,
   "id": "22e1dfca",
   "metadata": {},
   "outputs": [],
   "source": [
    "from emp import Employee\n",
    "import pickle\n",
    "\n",
    "emp1=Employee(101,\"naresh\",45000)\n",
    "emp2=Employee(102,\"suresh\",54000)\n",
    "emp3=Employee(103,\"kishore\",6500)\n",
    "f=open(\"emp.ser\",\"wb\")\n",
    "pickle.dump(emp1,f)\n",
    "pickle.dump(emp2,f)\n",
    "pickle.dump(emp3,f)\n",
    "f.close()\n"
   ]
  },
  {
   "cell_type": "code",
   "execution_count": null,
   "id": "3ee1f8f8",
   "metadata": {},
   "outputs": [],
   "source": [
    "from emp import Employee\n",
    "import pickle\n",
    "f=open(\"emp.ser\",\"rb\")\n",
    "emp1=pickle.load(f)\n",
    "emp2=pickle.load(f)\n",
    "emp3=pickle.load(f)\n",
    "emp1.print_emp()\n",
    "emp2.print_emp()\n",
    "emp3.print_emp()\n",
    "f.close()\n"
   ]
  },
  {
   "cell_type": "markdown",
   "id": "0e5367d9",
   "metadata": {},
   "source": [
    "# Output\n",
    "101,naresh,45000\n",
    "\n",
    "102,suresh,54000\n",
    "\n",
    "103,kishore,6500\n"
   ]
  }
 ],
 "metadata": {
  "kernelspec": {
   "display_name": ".venv",
   "language": "python",
   "name": "python3"
  },
  "language_info": {
   "codemirror_mode": {
    "name": "ipython",
    "version": 3
   },
   "file_extension": ".py",
   "mimetype": "text/x-python",
   "name": "python",
   "nbconvert_exporter": "python",
   "pygments_lexer": "ipython3",
   "version": "3.13.1"
  }
 },
 "nbformat": 4,
 "nbformat_minor": 5
}
