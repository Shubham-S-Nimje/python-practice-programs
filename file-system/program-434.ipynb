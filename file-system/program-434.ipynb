{
 "cells": [
  {
   "cell_type": "markdown",
   "id": "1ebe6b5a",
   "metadata": {},
   "source": [
    " Division 2 numbers"
   ]
  },
  {
   "cell_type": "code",
   "execution_count": 1,
   "id": "147c2237",
   "metadata": {},
   "outputs": [
    {
     "name": "stdout",
     "output_type": "stream",
     "text": [
      "P Y T\n",
      "HON251.5True(1+2j)\n",
      "\n"
     ]
    }
   ],
   "source": [
    "f=open(\"file1.txt\",\"r\")\n",
    "ch1=f.read(1)\n",
    "ch2=f.read(1)\n",
    "ch3=f.read(1)\n",
    "print(ch1,ch2,ch3)\n",
    "s=f.read()\n",
    "print(s)\n",
    "s=f.read(10) # No more characters to read it returns\n",
    "print(s)     # empty string   \n",
    "f.close()"
   ]
  }
 ],
 "metadata": {
  "kernelspec": {
   "display_name": ".venv",
   "language": "python",
   "name": "python3"
  },
  "language_info": {
   "codemirror_mode": {
    "name": "ipython",
    "version": 3
   },
   "file_extension": ".py",
   "mimetype": "text/x-python",
   "name": "python",
   "nbconvert_exporter": "python",
   "pygments_lexer": "ipython3",
   "version": "3.13.1"
  }
 },
 "nbformat": 4,
 "nbformat_minor": 5
}
