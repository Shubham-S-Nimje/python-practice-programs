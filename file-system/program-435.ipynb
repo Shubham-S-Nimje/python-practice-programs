{
 "cells": [
  {
   "cell_type": "markdown",
   "id": "1ebe6b5a",
   "metadata": {},
   "source": [
    "## Write a program to count alphabets, digits and special characters exists within file"
   ]
  },
  {
   "cell_type": "code",
   "execution_count": 1,
   "id": "147c2237",
   "metadata": {},
   "outputs": [
    {
     "name": "stdout",
     "output_type": "stream",
     "text": [
      "AlphaCount 11\n",
      "DigitCount 6\n",
      "SpecialCharacter Count 4\n"
     ]
    }
   ],
   "source": [
    "ac,dc,sc=0,0,0\n",
    "try:\n",
    "    f=open(\"file1.txt\",\"r\")\n",
    "    while True:\n",
    "        ch=f.read(1)\n",
    "        if ch=='':\n",
    "            break\n",
    "        if ch.isalpha():\n",
    "            ac+=1\n",
    "        elif ch.isdigit():\n",
    "            dc+=1\n",
    "        else:\n",
    "            sc+=1\n",
    "    print(f'AlphaCount {ac}')\n",
    "    print(f'DigitCount {dc}')\n",
    "    print(f'SpecialCharacter Count {sc}')\n",
    "except:\n",
    "    print(\"Error\")\n",
    "finally:\n",
    "    f.close()"
   ]
  }
 ],
 "metadata": {
  "kernelspec": {
   "display_name": ".venv",
   "language": "python",
   "name": "python3"
  },
  "language_info": {
   "codemirror_mode": {
    "name": "ipython",
    "version": 3
   },
   "file_extension": ".py",
   "mimetype": "text/x-python",
   "name": "python",
   "nbconvert_exporter": "python",
   "pygments_lexer": "ipython3",
   "version": "3.13.1"
  }
 },
 "nbformat": 4,
 "nbformat_minor": 5
}
