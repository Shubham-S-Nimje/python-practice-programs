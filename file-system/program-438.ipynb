{
 "cells": [
  {
   "cell_type": "markdown",
   "id": "1ebe6b5a",
   "metadata": {},
   "source": [
    "# creating emp.csv"
   ]
  },
  {
   "cell_type": "code",
   "execution_count": 1,
   "id": "147c2237",
   "metadata": {},
   "outputs": [
    {
     "ename": "ValueError",
     "evalue": "invalid literal for int() with base 10: 'f'",
     "output_type": "error",
     "traceback": [
      "\u001b[31m---------------------------------------------------------------------------\u001b[39m",
      "\u001b[31mValueError\u001b[39m                                Traceback (most recent call last)",
      "\u001b[36mCell\u001b[39m\u001b[36m \u001b[39m\u001b[32mIn[1]\u001b[39m\u001b[32m, line 7\u001b[39m\n\u001b[32m      5\u001b[39m cw.writerow([\u001b[33m\"\u001b[39m\u001b[33mempno\u001b[39m\u001b[33m\"\u001b[39m,\u001b[33m\"\u001b[39m\u001b[33mename\u001b[39m\u001b[33m\"\u001b[39m,\u001b[33m\"\u001b[39m\u001b[33msal\u001b[39m\u001b[33m\"\u001b[39m])\n\u001b[32m      6\u001b[39m \u001b[38;5;28;01mwhile\u001b[39;00m \u001b[38;5;28;01mTrue\u001b[39;00m:\n\u001b[32m----> \u001b[39m\u001b[32m7\u001b[39m     empno=\u001b[38;5;28;43mint\u001b[39;49m\u001b[43m(\u001b[49m\u001b[38;5;28;43minput\u001b[39;49m\u001b[43m(\u001b[49m\u001b[33;43m\"\u001b[39;49m\u001b[33;43mEmployeeNo :\u001b[39;49m\u001b[33;43m\"\u001b[39;49m\u001b[43m)\u001b[49m\u001b[43m)\u001b[49m\n\u001b[32m      8\u001b[39m     ename=\u001b[38;5;28minput\u001b[39m(\u001b[33m\"\u001b[39m\u001b[33mEmployeeName :\u001b[39m\u001b[33m\"\u001b[39m)\n\u001b[32m      9\u001b[39m     sal=\u001b[38;5;28mfloat\u001b[39m(\u001b[38;5;28minput\u001b[39m(\u001b[33m\"\u001b[39m\u001b[33mSalary :\u001b[39m\u001b[33m\"\u001b[39m))\n",
      "\u001b[31mValueError\u001b[39m: invalid literal for int() with base 10: 'f'"
     ]
    }
   ],
   "source": [
    "import csv\n",
    "\n",
    "f=open(\"emp.csv\",\"a\",newline='')\n",
    "cw=csv.writer(f)\n",
    "cw.writerow([\"empno\",\"ename\",\"sal\"])\n",
    "while True:\n",
    "    empno=int(input(\"EmployeeNo :\"))\n",
    "    ename=input(\"EmployeeName :\")\n",
    "    sal=float(input(\"Salary :\"))\n",
    "    cw.writerow([empno,ename,sal])\n",
    "    ans=input(\"Add another employee?\")\n",
    "    if ans==\"no\":\n",
    "        break\n",
    "f.close()"
   ]
  }
 ],
 "metadata": {
  "kernelspec": {
   "display_name": ".venv",
   "language": "python",
   "name": "python3"
  },
  "language_info": {
   "codemirror_mode": {
    "name": "ipython",
    "version": 3
   },
   "file_extension": ".py",
   "mimetype": "text/x-python",
   "name": "python",
   "nbconvert_exporter": "python",
   "pygments_lexer": "ipython3",
   "version": "3.13.1"
  }
 },
 "nbformat": 4,
 "nbformat_minor": 5
}
