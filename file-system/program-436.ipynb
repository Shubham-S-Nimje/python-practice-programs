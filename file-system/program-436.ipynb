{
 "cells": [
  {
   "cell_type": "markdown",
   "id": "1ebe6b5a",
   "metadata": {},
   "source": [
    "Write a program to create copy of the file"
   ]
  },
  {
   "cell_type": "code",
   "execution_count": 1,
   "id": "147c2237",
   "metadata": {},
   "outputs": [
    {
     "name": "stdout",
     "output_type": "stream",
     "text": [
      "File Copied\n"
     ]
    }
   ],
   "source": [
    "file1=input(\"Enter Filename1 :\")\n",
    "file2=input(\"Enter Filename2 :\")\n",
    "try:\n",
    "    f1=open(file1,\"r\")\n",
    "    f2=open(file2,\"w\")\n",
    "    s=f1.read()\n",
    "    f2.write(s)\n",
    "    print(\"File Copied\")\n",
    "except:\n",
    "    print(\"Error in creating copy\")\n",
    "finally:\n",
    "    f1.close()\n",
    "    f2.close()"
   ]
  }
 ],
 "metadata": {
  "kernelspec": {
   "display_name": ".venv",
   "language": "python",
   "name": "python3"
  },
  "language_info": {
   "codemirror_mode": {
    "name": "ipython",
    "version": 3
   },
   "file_extension": ".py",
   "mimetype": "text/x-python",
   "name": "python",
   "nbconvert_exporter": "python",
   "pygments_lexer": "ipython3",
   "version": "3.13.1"
  }
 },
 "nbformat": 4,
 "nbformat_minor": 5
}
