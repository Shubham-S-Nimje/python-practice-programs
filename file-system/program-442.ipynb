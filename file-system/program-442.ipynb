{
 "cells": [
  {
   "cell_type": "markdown",
   "id": "1ebe6b5a",
   "metadata": {},
   "source": [
    "# Creating json file"
   ]
  },
  {
   "cell_type": "code",
   "execution_count": 2,
   "id": "147c2237",
   "metadata": {},
   "outputs": [
    {
     "name": "stdout",
     "output_type": "stream",
     "text": [
      "file is created...\n"
     ]
    }
   ],
   "source": [
    "import json\n",
    "\n",
    "emp={'empno':[1,2,3,4],\n",
    "     'ename':['naresh','suresh','ramesh','kishore'],\n",
    "     'salary':[45000,56000,75000,85000]}\n",
    "\n",
    "f=open(\"emp.json\",\"w\")\n",
    "json.dump(emp,f)\n",
    "print(\"file is created...\")\n",
    "f.close()"
   ]
  }
 ],
 "metadata": {
  "kernelspec": {
   "display_name": ".venv",
   "language": "python",
   "name": "python3"
  },
  "language_info": {
   "codemirror_mode": {
    "name": "ipython",
    "version": 3
   },
   "file_extension": ".py",
   "mimetype": "text/x-python",
   "name": "python",
   "nbconvert_exporter": "python",
   "pygments_lexer": "ipython3",
   "version": "3.13.1"
  }
 },
 "nbformat": 4,
 "nbformat_minor": 5
}
