{
 "cells": [
  {
   "cell_type": "markdown",
   "id": "1ebe6b5a",
   "metadata": {},
   "source": [
    "reading emp.csv"
   ]
  },
  {
   "cell_type": "code",
   "execution_count": 1,
   "id": "147c2237",
   "metadata": {},
   "outputs": [
    {
     "name": "stdout",
     "output_type": "stream",
     "text": [
      "['1', 'naresh', '50,000']\n",
      "['2', 'suresh', '60,000']\n",
      "['3', 'kishore', '70,000']\n",
      "['4', 'kiran', '50,000']\n",
      "['5', 'ramesh', '40,000']\n",
      "[['1', 'naresh', '50,000'], ['2', 'suresh', '60,000'], ['3', 'kishore', '70,000'], ['4', 'kiran', '50,000'], ['5', 'ramesh', '40,000']]\n"
     ]
    }
   ],
   "source": [
    "import csv\n",
    "\n",
    "f=open(\"emp.csv\",\"r\")\n",
    "cr=csv.reader(f)\n",
    "for row in cr:\n",
    "    print(row)\n",
    "\n",
    "f.close()\n",
    "\n",
    "f=open(\"emp.csv\",\"r\")\n",
    "cr=csv.reader(f)\n",
    "emp_list=list(cr)\n",
    "print(emp_list)\n",
    "f.close()"
   ]
  }
 ],
 "metadata": {
  "kernelspec": {
   "display_name": ".venv",
   "language": "python",
   "name": "python3"
  },
  "language_info": {
   "codemirror_mode": {
    "name": "ipython",
    "version": 3
   },
   "file_extension": ".py",
   "mimetype": "text/x-python",
   "name": "python",
   "nbconvert_exporter": "python",
   "pygments_lexer": "ipython3",
   "version": "3.13.1"
  }
 },
 "nbformat": 4,
 "nbformat_minor": 5
}
