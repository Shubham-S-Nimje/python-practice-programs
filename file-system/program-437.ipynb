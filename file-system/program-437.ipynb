{
 "cells": [
  {
   "cell_type": "markdown",
   "id": "1ebe6b5a",
   "metadata": {},
   "source": [
    "Write a program to read marks.txt file and generate student result with total,avg and result\n"
   ]
  },
  {
   "cell_type": "code",
   "execution_count": 2,
   "id": "147c2237",
   "metadata": {},
   "outputs": [
    {
     "name": "stdout",
     "output_type": "stream",
     "text": [
      "1\tshubham\t50\t40\t90\t45.00\tPASS\n",
      "2\tshubham\t30\t50\t80\t40.00\tFAIL\n",
      "3\tvaibhav\t60\t50\t110\t55.00\tPASS\n"
     ]
    }
   ],
   "source": [
    "try:\n",
    "    f=open(\"marks.txt\",\"r\")\n",
    "    while True:\n",
    "      stud=f.readline()\n",
    "      if stud!='':\n",
    "          rollno,name,sub1,sub2=stud.split()\n",
    "          total=int(sub1)+int(sub2)\n",
    "          avg=total/2\n",
    "          result=\"PASS\" if int(sub1)>=40 and int(sub2)>=40 else \"FAIL\"\n",
    "          print(f'{rollno}\\t{name}\\t{sub1}\\t{sub2}\\t{total}\\t{avg:.2f}\\t{result}')\n",
    "      else:\n",
    "          break\n",
    "except:\n",
    "    print(\"Error in reading\")\n",
    "finally:\n",
    "    f.close()"
   ]
  }
 ],
 "metadata": {
  "kernelspec": {
   "display_name": ".venv",
   "language": "python",
   "name": "python3"
  },
  "language_info": {
   "codemirror_mode": {
    "name": "ipython",
    "version": 3
   },
   "file_extension": ".py",
   "mimetype": "text/x-python",
   "name": "python",
   "nbconvert_exporter": "python",
   "pygments_lexer": "ipython3",
   "version": "3.13.1"
  }
 },
 "nbformat": 4,
 "nbformat_minor": 5
}
