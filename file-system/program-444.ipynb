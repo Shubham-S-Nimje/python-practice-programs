{
 "cells": [
  {
   "cell_type": "code",
   "execution_count": 1,
   "id": "147c2237",
   "metadata": {},
   "outputs": [
    {
     "name": "stdout",
     "output_type": "stream",
     "text": [
      "<class 'dict'> <class 'str'>\n",
      "{'empno': [1, 2, 3], 'ename': ['naresh', 'suresh', 'ramesh'], 'salary': [45000, 65000, 75000]} {\"empno\": [1, 2, 3], \"ename\": [\"naresh\", \"suresh\", \"ramesh\"], \"salary\": [45000, 65000, 75000]}\n",
      "{'empno': [1, 2, 3], 'ename': ['naresh', 'suresh', 'ramesh'], 'salary': [45000, 65000, 75000]}\n",
      "<class 'dict'>\n"
     ]
    }
   ],
   "source": [
    "import json\n",
    "\n",
    "emp={'empno':[1,2,3],\n",
    "     'ename':['naresh','suresh','ramesh'],\n",
    "     'salary':[45000,65000,75000]}\n",
    "\n",
    "s=json.dumps(emp)\n",
    "print(type(emp),type(s))\n",
    "print(emp,s)\n",
    "\n",
    "emp1=json.loads(s)\n",
    "print(emp1)\n",
    "print(type(emp1))"
   ]
  }
 ],
 "metadata": {
  "kernelspec": {
   "display_name": ".venv",
   "language": "python",
   "name": "python3"
  },
  "language_info": {
   "codemirror_mode": {
    "name": "ipython",
    "version": 3
   },
   "file_extension": ".py",
   "mimetype": "text/x-python",
   "name": "python",
   "nbconvert_exporter": "python",
   "pygments_lexer": "ipython3",
   "version": "3.13.1"
  }
 },
 "nbformat": 4,
 "nbformat_minor": 5
}
