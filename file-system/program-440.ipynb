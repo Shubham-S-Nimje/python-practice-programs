{
 "cells": [
  {
   "cell_type": "markdown",
   "id": "1ebe6b5a",
   "metadata": {},
   "source": [
    "## creating student.csv"
   ]
  },
  {
   "cell_type": "code",
   "execution_count": 1,
   "id": "147c2237",
   "metadata": {},
   "outputs": [],
   "source": [
    "import csv\n",
    "\n",
    "f=open(\"student.csv\",\"w\",newline='')\n",
    "dw=csv.DictWriter(f,fieldnames=['rollno','name','course'])\n",
    "dw.writeheader()\n",
    "while True:\n",
    "    rollno=int(input(\"Rollno :\"))\n",
    "    name=input(\"Name :\")\n",
    "    course=input(\"Course :\")\n",
    "    row={'rollno':rollno,'name':name,'course':course}\n",
    "    dw.writerow(row)\n",
    "    ans=input(\"Add another students?\")\n",
    "    if ans==\"no\":\n",
    "        break\n",
    "\n",
    "f.close()"
   ]
  }
 ],
 "metadata": {
  "kernelspec": {
   "display_name": ".venv",
   "language": "python",
   "name": "python3"
  },
  "language_info": {
   "codemirror_mode": {
    "name": "ipython",
    "version": 3
   },
   "file_extension": ".py",
   "mimetype": "text/x-python",
   "name": "python",
   "nbconvert_exporter": "python",
   "pygments_lexer": "ipython3",
   "version": "3.13.1"
  }
 },
 "nbformat": 4,
 "nbformat_minor": 5
}
