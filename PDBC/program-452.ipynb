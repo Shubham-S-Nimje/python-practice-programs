{
 "cells": [
  {
   "cell_type": "markdown",
   "id": "1ebe6b5a",
   "metadata": {},
   "source": [
    "### Write a program to insert data into stud_marks table"
   ]
  },
  {
   "cell_type": "code",
   "execution_count": 1,
   "id": "6f5516da",
   "metadata": {},
   "outputs": [
    {
     "name": "stdout",
     "output_type": "stream",
     "text": [
      "connection established...\n",
      "Student Created...\n",
      "Student Created...\n"
     ]
    }
   ],
   "source": [
    "import mysql.connector\n",
    "from dotenv import load_dotenv\n",
    "import os\n",
    "\n",
    "load_dotenv()\n",
    "\n",
    "cn=mysql.connector.connect(database= os.getenv('MYSQL_NAME'),\n",
    "                   user= os.getenv('MYSQL_USER'),\n",
    "                   password= os.getenv('MYSQL_PASSWORD'),\n",
    "                   host= os.getenv('MYSQL_HOST'),\n",
    "                   port= os.getenv('MYSQL_PORT'))\n",
    "\n",
    "print(\"connection established...\")\n",
    "\n",
    "c=cn.cursor()\n",
    "while True:\n",
    "    rno=int(input(\"Rollno :\"))\n",
    "    name=input(\"Name :\")\n",
    "    s1=float(input(\"Sub1Marks :\"))\n",
    "    s2=float(input(\"Sub2Marks :\"))\n",
    "    s3=float(input(\"Sub3Marks :\"))\n",
    "    c.execute('''insert into stud_marks(rollno,name,\n",
    "sub1,sub2,sub3) values(%s,%s,%s,%s,%s)''',params=(rno,name,s1,s2,s3))\n",
    "    print(\"Student Created...\")\n",
    "    ans=input(\"Add another Student?\")\n",
    "    if ans==\"no\":\n",
    "        cn.commit() # save changes\n",
    "        break\n",
    "\n",
    "cn.close()"
   ]
  }
 ],
 "metadata": {
  "kernelspec": {
   "display_name": ".venv",
   "language": "python",
   "name": "python3"
  },
  "language_info": {
   "codemirror_mode": {
    "name": "ipython",
    "version": 3
   },
   "file_extension": ".py",
   "mimetype": "text/x-python",
   "name": "python",
   "nbconvert_exporter": "python",
   "pygments_lexer": "ipython3",
   "version": "3.13.1"
  }
 },
 "nbformat": 4,
 "nbformat_minor": 5
}
