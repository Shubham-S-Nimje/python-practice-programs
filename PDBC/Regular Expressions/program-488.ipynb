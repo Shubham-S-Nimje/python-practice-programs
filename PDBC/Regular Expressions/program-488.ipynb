{
 "cells": [
  {
   "cell_type": "markdown",
   "id": "1ebe6b5a",
   "metadata": {},
   "source": [
    "### os.name"
   ]
  },
  {
   "cell_type": "code",
   "execution_count": 2,
   "id": "6f5516da",
   "metadata": {},
   "outputs": [
    {
     "data": {
      "text/plain": [
       "'nt'"
      ]
     },
     "execution_count": 2,
     "metadata": {},
     "output_type": "execute_result"
    }
   ],
   "source": [
    "import os\n",
    "os.name"
   ]
  },
  {
   "cell_type": "markdown",
   "id": "b9e0babf",
   "metadata": {},
   "source": [
    "### os.getcwd()"
   ]
  },
  {
   "cell_type": "code",
   "execution_count": 3,
   "id": "3b587293",
   "metadata": {},
   "outputs": [
    {
     "data": {
      "text/plain": [
       "'d:\\\\Learning\\\\Python\\\\PDBC\\\\Regular Expressions'"
      ]
     },
     "execution_count": 3,
     "metadata": {},
     "output_type": "execute_result"
    }
   ],
   "source": [
    "f=open(\"file1\",'w')\n",
    "os.getcwd()"
   ]
  },
  {
   "cell_type": "markdown",
   "id": "c1d9fd8a",
   "metadata": {},
   "source": [
    "### os.chdir(path)"
   ]
  },
  {
   "cell_type": "code",
   "execution_count": 7,
   "id": "8b2c9a7f",
   "metadata": {},
   "outputs": [],
   "source": [
    "os.chdir(\"d:\\\\Learning\\\\Python\\\\PDBC\\\\Regular Expressions\")\n",
    "os.getcwd()\n",
    "f=open(\"file2\",\"w\")"
   ]
  },
  {
   "cell_type": "markdown",
   "id": "959a01ce",
   "metadata": {},
   "source": [
    "## os.mkdir(path)"
   ]
  },
  {
   "cell_type": "code",
   "execution_count": 8,
   "id": "0c1cc86d",
   "metadata": {},
   "outputs": [
    {
     "name": "stdout",
     "output_type": "stream",
     "text": [
      "folder or directory created...\n"
     ]
    }
   ],
   "source": [
    "fname=input(\"Enter FolderName or Directory Name \")\n",
    "os.mkdir(fname)\n",
    "print(\"folder or directory created...\")\n"
   ]
  },
  {
   "cell_type": "markdown",
   "id": "8ff2999b",
   "metadata": {},
   "source": [
    "### os.rmdir(path)"
   ]
  },
  {
   "cell_type": "code",
   "execution_count": 9,
   "id": "5699a81c",
   "metadata": {},
   "outputs": [
    {
     "name": "stdout",
     "output_type": "stream",
     "text": [
      "folder deleted...\n"
     ]
    }
   ],
   "source": [
    "import os\n",
    "fname=input(\"Enter FolderName to remove\")\n",
    "try:\n",
    "    os.rmdir(fname)\n",
    "    print(\"folder deleted...\")\n",
    "\n",
    "except FileNotFoundError:\n",
    "    print(\"Invalid Folder Name\")\n",
    "except OSError:\n",
    "    print(\"Folder Not Empty\")\n"
   ]
  },
  {
   "cell_type": "markdown",
   "id": "19c3bac2",
   "metadata": {},
   "source": [
    "### os.listdir(path='.')"
   ]
  },
  {
   "cell_type": "code",
   "execution_count": 10,
   "id": "edbc655f",
   "metadata": {},
   "outputs": [
    {
     "ename": "FileNotFoundError",
     "evalue": "[WinError 3] The system cannot find the path specified: 'new'",
     "output_type": "error",
     "traceback": [
      "\u001b[31m---------------------------------------------------------------------------\u001b[39m",
      "\u001b[31mFileNotFoundError\u001b[39m                         Traceback (most recent call last)",
      "\u001b[36mCell\u001b[39m\u001b[36m \u001b[39m\u001b[32mIn[10]\u001b[39m\u001b[32m, line 3\u001b[39m\n\u001b[32m      1\u001b[39m \u001b[38;5;28;01mimport\u001b[39;00m\u001b[38;5;250m \u001b[39m\u001b[34;01mos\u001b[39;00m\n\u001b[32m      2\u001b[39m fname=\u001b[38;5;28minput\u001b[39m(\u001b[33m\"\u001b[39m\u001b[33mFolder Name \u001b[39m\u001b[33m\"\u001b[39m)\n\u001b[32m----> \u001b[39m\u001b[32m3\u001b[39m A=\u001b[43mos\u001b[49m\u001b[43m.\u001b[49m\u001b[43mlistdir\u001b[49m\u001b[43m(\u001b[49m\u001b[43mfname\u001b[49m\u001b[43m)\u001b[49m\n\u001b[32m      4\u001b[39m \u001b[38;5;28mprint\u001b[39m(A)\n",
      "\u001b[31mFileNotFoundError\u001b[39m: [WinError 3] The system cannot find the path specified: 'new'"
     ]
    }
   ],
   "source": [
    "import os\n",
    "fname=input(\"Folder Name \")\n",
    "A=os.listdir(fname)\n",
    "print(A)\n"
   ]
  }
 ],
 "metadata": {
  "kernelspec": {
   "display_name": ".venv",
   "language": "python",
   "name": "python3"
  },
  "language_info": {
   "codemirror_mode": {
    "name": "ipython",
    "version": 3
   },
   "file_extension": ".py",
   "mimetype": "text/x-python",
   "name": "python",
   "nbconvert_exporter": "python",
   "pygments_lexer": "ipython3",
   "version": "3.13.1"
  }
 },
 "nbformat": 4,
 "nbformat_minor": 5
}
