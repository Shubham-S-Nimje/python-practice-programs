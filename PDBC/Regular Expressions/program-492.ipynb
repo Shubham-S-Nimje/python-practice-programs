{
 "cells": [
  {
   "cell_type": "markdown",
   "id": "1ebe6b5a",
   "metadata": {},
   "source": [
    "### # Write a program to delete a file"
   ]
  },
  {
   "cell_type": "code",
   "execution_count": 2,
   "id": "6f5516da",
   "metadata": {},
   "outputs": [
    {
     "name": "stdout",
     "output_type": "stream",
     "text": [
      "file deleted\n"
     ]
    }
   ],
   "source": [
    "import os\n",
    "import os.path\n",
    "\n",
    "fname=input(\"Enter filename to delete \")\n",
    "if os.path.exists(fname):\n",
    "    if os.path.isfile(fname):\n",
    "        os.remove(fname)\n",
    "        print(\"file deleted\")\n",
    "    else:\n",
    "        print(\"it is not file\")\n",
    "else:\n",
    "    print(\"file not found\")"
   ]
  }
 ],
 "metadata": {
  "kernelspec": {
   "display_name": ".venv",
   "language": "python",
   "name": "python3"
  },
  "language_info": {
   "codemirror_mode": {
    "name": "ipython",
    "version": 3
   },
   "file_extension": ".py",
   "mimetype": "text/x-python",
   "name": "python",
   "nbconvert_exporter": "python",
   "pygments_lexer": "ipython3",
   "version": "3.13.1"
  }
 },
 "nbformat": 4,
 "nbformat_minor": 5
}
