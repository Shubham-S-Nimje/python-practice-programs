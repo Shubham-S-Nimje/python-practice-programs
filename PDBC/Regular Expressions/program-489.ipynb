{
 "cells": [
  {
   "cell_type": "markdown",
   "id": "1ebe6b5a",
   "metadata": {},
   "source": [
    "### os.path.exists(path)"
   ]
  },
  {
   "cell_type": "code",
   "execution_count": 2,
   "id": "6f5516da",
   "metadata": {},
   "outputs": [
    {
     "name": "stdout",
     "output_type": "stream",
     "text": [
      "filename or foldername not exists\n"
     ]
    }
   ],
   "source": [
    "import os.path\n",
    "\n",
    "name=input(\"Input filename or foldername\")\n",
    "if os.path.exists(name):\n",
    "    print(\"filename or foldername exists\")\n",
    "else:\n",
    "    print(\"filename or foldername not exists\")"
   ]
  }
 ],
 "metadata": {
  "kernelspec": {
   "display_name": ".venv",
   "language": "python",
   "name": "python3"
  },
  "language_info": {
   "codemirror_mode": {
    "name": "ipython",
    "version": 3
   },
   "file_extension": ".py",
   "mimetype": "text/x-python",
   "name": "python",
   "nbconvert_exporter": "python",
   "pygments_lexer": "ipython3",
   "version": "3.13.1"
  }
 },
 "nbformat": 4,
 "nbformat_minor": 5
}
