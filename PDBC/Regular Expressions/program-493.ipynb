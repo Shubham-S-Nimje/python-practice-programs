{
 "cells": [
  {
   "cell_type": "markdown",
   "id": "1ebe6b5a",
   "metadata": {},
   "source": [
    "### Write a program to rename file or folder"
   ]
  },
  {
   "cell_type": "code",
   "execution_count": null,
   "id": "6f5516da",
   "metadata": {},
   "outputs": [
    {
     "name": "stdout",
     "output_type": "stream",
     "text": [
      "file deleted\n"
     ]
    }
   ],
   "source": [
    "import os\n",
    "import os.path\n",
    "\n",
    "fname1=input(\"Old FileName or FolderName :\")\n",
    "fname2=input(\"New FileName or FolderName :\")\n",
    "if os.path.exists(fname1):\n",
    "    if os.path.exists(fname2):\n",
    "        print(\"New name exists cannot rename\")\n",
    "    else:\n",
    "        os.rename(fname1,fname2)\n",
    "        print(\"file renamed\")\n",
    "else:\n",
    "    print(\"old filename not exists\")"
   ]
  }
 ],
 "metadata": {
  "kernelspec": {
   "display_name": ".venv",
   "language": "python",
   "name": "python3"
  },
  "language_info": {
   "codemirror_mode": {
    "name": "ipython",
    "version": 3
   },
   "file_extension": ".py",
   "mimetype": "text/x-python",
   "name": "python",
   "nbconvert_exporter": "python",
   "pygments_lexer": "ipython3",
   "version": "3.13.1"
  }
 },
 "nbformat": 4,
 "nbformat_minor": 5
}
