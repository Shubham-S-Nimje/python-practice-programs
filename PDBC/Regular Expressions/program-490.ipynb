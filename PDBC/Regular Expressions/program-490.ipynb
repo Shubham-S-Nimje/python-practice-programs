{
 "cells": [
  {
   "cell_type": "markdown",
   "id": "1ebe6b5a",
   "metadata": {},
   "source": [
    "### # Write a program to find input name is filename\n",
    "# folder name"
   ]
  },
  {
   "cell_type": "code",
   "execution_count": 2,
   "id": "6f5516da",
   "metadata": {},
   "outputs": [
    {
     "name": "stdout",
     "output_type": "stream",
     "text": [
      "it is regular file\n"
     ]
    }
   ],
   "source": [
    "import os.path\n",
    "\n",
    "name = input(\"Enter Name:\")\n",
    "if os.path.exists(name):\n",
    "    if os.path.isfile(name):\n",
    "        print(f\"it is regular file\")\n",
    "    elif os.path.isdir(name):\n",
    "        print(f\"it is filename or directory name\")\n",
    "else:\n",
    "    print(f\"Input name is not exists\")"
   ]
  }
 ],
 "metadata": {
  "kernelspec": {
   "display_name": ".venv",
   "language": "python",
   "name": "python3"
  },
  "language_info": {
   "codemirror_mode": {
    "name": "ipython",
    "version": 3
   },
   "file_extension": ".py",
   "mimetype": "text/x-python",
   "name": "python",
   "nbconvert_exporter": "python",
   "pygments_lexer": "ipython3",
   "version": "3.13.1"
  }
 },
 "nbformat": 4,
 "nbformat_minor": 5
}
