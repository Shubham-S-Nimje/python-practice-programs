{
 "cells": [
  {
   "cell_type": "markdown",
   "id": "1ebe6b5a",
   "metadata": {},
   "source": [
    "### # Write a program to count files and folders exists\n",
    "# in a given folder"
   ]
  },
  {
   "cell_type": "code",
   "execution_count": 1,
   "id": "6f5516da",
   "metadata": {},
   "outputs": [
    {
     "name": "stdout",
     "output_type": "stream",
     "text": [
      "Given name is not folder\n"
     ]
    }
   ],
   "source": [
    "import os\n",
    "import os.path\n",
    "fname=input(\"FolderName :\")\n",
    "if os.path.exists(fname):\n",
    "    if os.path.isdir(fname):\n",
    "        os.chdir(fname)\n",
    "        A=os.listdir(fname)\n",
    "        fc,dc=0,0\n",
    "        for name in A:\n",
    "            if os.path.isfile(name):\n",
    "                fc+=1\n",
    "            else:\n",
    "                dc+=1\n",
    "        print(f'File Count {fc}')\n",
    "        print(f'Folder Count {dc}')\n",
    "    else:\n",
    "        print(\"Given name is not folder\")\n",
    "else:\n",
    "    print(\"Given name is not exists\")"
   ]
  }
 ],
 "metadata": {
  "kernelspec": {
   "display_name": ".venv",
   "language": "python",
   "name": "python3"
  },
  "language_info": {
   "codemirror_mode": {
    "name": "ipython",
    "version": 3
   },
   "file_extension": ".py",
   "mimetype": "text/x-python",
   "name": "python",
   "nbconvert_exporter": "python",
   "pygments_lexer": "ipython3",
   "version": "3.13.1"
  }
 },
 "nbformat": 4,
 "nbformat_minor": 5
}
